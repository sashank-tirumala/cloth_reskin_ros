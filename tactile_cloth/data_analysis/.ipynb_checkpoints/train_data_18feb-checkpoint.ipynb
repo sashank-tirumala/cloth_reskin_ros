{
 "cells": [
  {
   "cell_type": "code",
   "execution_count": 1,
   "metadata": {},
   "outputs": [],
   "source": [
    "import numpy as np\n",
    "import numpy as np\n",
    "import matplotlib.pyplot as plt\n",
    "import os\n",
    "from sklearn import preprocessing\n",
    "from sklearn.model_selection import train_test_split\n",
    "from sklearn import neighbors\n",
    "from sklearn import ensemble\n",
    "from sklearn import svm\n",
    "from sklearn import linear_model\n",
    "\n",
    "import sklearn\n",
    "from sklearn.metrics import balanced_accuracy_score\n",
    "from sklearn.metrics import confusion_matrix\n",
    "def get_cloth_dir_names(ps):\n",
    "    cloth_dir_names=[]\n",
    "    for directory in ps:\n",
    "        temp=[]\n",
    "        for dir in sorted(os.listdir(directory)):\n",
    "            temp.append(directory+\"/\"+dir)\n",
    "        cloth_dir_names.append(temp)\n",
    "    return cloth_dir_names\n",
    "\n",
    "def create_cloth_datas_each_trial(all_dir_name, csv_name ):\n",
    "    cloth_datas=[]\n",
    "    for category_name in all_dir_name:\n",
    "        temp=[]\n",
    "        for dir_name in category_name:\n",
    "            x,y = get_data_XY(dir_name, file_name = csv_name)\n",
    "            dat = np.hstack([x,y])\n",
    "            temp.append(dat)\n",
    "        cloth_datas.append(temp)\n",
    "    return cloth_datas\n",
    "\n",
    "def create_train_test_data(cloth_datas, train_percent, randomize = False):\n",
    "    X = []\n",
    "    Y = []\n",
    "    x = []\n",
    "    y = []\n",
    "    for curr_data in cloth_datas:\n",
    "        total_trials = len(curr_data)\n",
    "        trial_count = int(train_percent*total_trials/100)\n",
    "        a = np.arange(total_trials)\n",
    "        if(randomize):\n",
    "            np.random.shuffle(a)\n",
    "            train_indices = a[:trial_count]\n",
    "            test_indices = a[trial_count:]\n",
    "        else:\n",
    "            train_indices = a[:trial_count]\n",
    "            test_indices = a[trial_count:]\n",
    "        \n",
    "        for i in train_indices:\n",
    "            X.append(curr_data[i][:,:-1])\n",
    "            Y.append(curr_data[i][:,-1].reshape(-1,1))\n",
    "\n",
    "        for i in test_indices:\n",
    "            x.append(curr_data[i][:,:-1])\n",
    "            y.append(curr_data[i][:,-1].reshape(-1,1))\n",
    "    X = np.vstack(X)\n",
    "    Y = np.vstack(Y)\n",
    "    x = np.vstack(x)\n",
    "    y = np.vstack(y)\n",
    "    return X,Y,x,y\n",
    "\n",
    "def normalize_data(train_data, test_data=None):\n",
    "    if(test_data is not None):\n",
    "        scaler = preprocessing.StandardScaler().fit(train_data)\n",
    "        new_train_data = scaler.transform(train_data)\n",
    "        new_test_data = scaler.transform(test_data)\n",
    "        return new_train_data, new_test_data, scaler\n",
    "    else:\n",
    "        scaler = preprocessing.StandardScaler().fit(train_data)\n",
    "        return scaler.transform(train_data), scaler\n",
    "\n",
    "\n",
    "def train_classifier(X,Y, nn=10):\n",
    "    if(np.mean(X) > 1e-1 or np.abs(np.std(X)-1.0)>0.1):\n",
    "        print(\"Warn: Train Data not normalized\")\n",
    "    \n",
    "    knn_clf = neighbors.KNeighborsClassifier(nn, weights=\"distance\")\n",
    "    rf_clf = ensemble.RandomForestClassifier(max_depth=None, random_state=0)\n",
    "    svm_clf = svm.SVC(kernel='rbf')\n",
    "    lm_clf = linear_model.LogisticRegression(penalty='l2', max_iter=200)\n",
    "    knn_clf.fit(X, Y.ravel())\n",
    "    rf_clf.fit(X, Y.ravel())\n",
    "    svm_clf.fit(X, Y.ravel())\n",
    "    lm_clf.fit(X, Y.ravel())\n",
    "    return knn_clf, rf_clf, svm_clf, lm_clf\n",
    "                   \n",
    "        \n",
    "            \n",
    "def get_data_XY(dir_name, file_name):\n",
    "    file_name = dir_name+file_name\n",
    "    data = np.loadtxt(file_name, delimiter = \",\")\n",
    "    X = data[:,:-2]\n",
    "    Y = np.reshape(data[:,-2],(-1,1))\n",
    "    return X,Y\n",
    "\n",
    "def test_classifier(clfs, scaler, x, y, verbose=True):\n",
    "    scores=[]\n",
    "    if(np.mean(x) > 1e-1 or np.abs(np.std(x)-1.0)>0.1):\n",
    "        print(\"Warn: Test Data not normalized: \", np.mean(x), np.std(x))\n",
    "    for clf in clfs:\n",
    "        clf_name=str(type(clf)).split(\".\")[-1][:-2]\n",
    "        print(clf_name)\n",
    "        y_pred = clf.predict(x)\n",
    "        score = balanced_accuracy_score(y, y_pred)\n",
    "        best_cf = confusion_matrix(y, y_pred)\n",
    "        scores.append(score)\n",
    "        if verbose:\n",
    "            print(\"balanced accuracy: \",score)\n",
    "            print(\"confusion_matrix: \", best_cf)\n",
    "    return y_pred, score\n",
    "\n",
    "\n",
    "def create_knn_clf_plot_from_dir(ps, file_name=\"/reskin_data.csv\" , randomize=False, train_percent=75):\n",
    "    cloth_dir_names = get_cloth_dir_names(ps)\n",
    "    cloth_datas = create_cloth_datas_each_trial(cloth_dir_names, csv_name = file_name)\n",
    "    X,Y,x,y = create_train_test_data(cloth_datas, train_percent, randomize)\n",
    "    _,scaler = normalize_data(np.vstack([X,x]))\n",
    "    X = scaler.transform(X)\n",
    "    x = scaler.transform(x)\n",
    "    clf = train_classifier(X,Y)\n",
    "    test_classifier(clf, scaler, x, y)\n",
    "    return clf, scaler\n",
    "\n",
    "def create_clf_plot_from_dir(ps, file_name=\"/reskin_data.csv\" , randomize=False, train_percent=75):\n",
    "    cloth_dir_names = get_cloth_dir_names(ps)\n",
    "    cloth_datas = create_cloth_datas_each_trial(cloth_dir_names, csv_name = file_name)\n",
    "    X,Y,x,y = create_train_test_data(cloth_datas, train_percent, randomize)\n",
    "    _,scaler = normalize_data(np.vstack([X,x]))\n",
    "    print(\"shape:\" ,X.shape, x.shape)\n",
    "    X = scaler.transform(X)\n",
    "    x = scaler.transform(x)\n",
    "    clfs = train_classifier(X,Y)\n",
    "    _, score = test_classifier(clfs, scaler, x, y)\n",
    "    return clfs, scaler, score"
   ]
  },
  {
   "cell_type": "code",
   "execution_count": 35,
   "metadata": {},
   "outputs": [
    {
     "name": "stdout",
     "output_type": "stream",
     "text": [
      "('balanced accuracy: ', 0.9711831450119338)\n",
      "('confusion_matrix: ', array([[9321,    9,   11,   68],\n",
      "       [  11, 4525,    1,    0],\n",
      "       [ 350,    0, 4561,   86],\n",
      "       [  55,    0,   26, 4976]]))\n"
     ]
    }
   ],
   "source": [
    "p1 = \"/media/tweng/ExtraDrive2/fabric_touch/bagfiles/franka_norub_folded_random/0cloth_norub_auto\"\n",
    "p2 = \"/media/tweng/ExtraDrive2/fabric_touch/bagfiles/franka_norub_folded_random/1cloth_norub_auto\"\n",
    "p3 = \"/media/tweng/ExtraDrive2/fabric_touch/bagfiles/franka_norub_folded_random/2cloth_norub_auto\"\n",
    "clf, scaler = create_clf_plot_from_dir([p1,p2,p3], file_name=\"/reskin_data.csv\" , randomize=False, train_percent=75)"
   ]
  },
  {
   "cell_type": "code",
   "execution_count": 34,
   "metadata": {},
   "outputs": [
    {
     "name": "stdout",
     "output_type": "stream",
     "text": [
      "('balanced accuracy: ', 0.8042098346105004)\n",
      "('confusion_matrix: ', array([[14959,   275,   242,   310],\n",
      "       [   44,  2352,     0,     0],\n",
      "       [  444,     0,  1433,   549],\n",
      "       [   39,     0,   696,  1690]]))\n"
     ]
    }
   ],
   "source": [
    "p1 = \"/media/tweng/ExtraDrive2/fabric_touch/bagfiles/franka_norub_folded_random_18feb/0cloth_norub_auto_0\"\n",
    "p2 = \"/media/tweng/ExtraDrive2/fabric_touch/bagfiles/franka_norub_folded_random_18feb/1cloth_norub_auto_0\"\n",
    "p3 = \"/media/tweng/ExtraDrive2/fabric_touch/bagfiles/franka_norub_folded_random_18feb/2cloth_norub_auto_0\"\n",
    "clf, scaler = create_clf_plot_from_dir([p1,p2,p3], file_name=\"/reskin_labelled.csv\" , randomize=True, train_percent=75)"
   ]
  },
  {
   "cell_type": "code",
   "execution_count": 33,
   "metadata": {},
   "outputs": [
    {
     "name": "stdout",
     "output_type": "stream",
     "text": [
      "('balanced accuracy: ', 0.9141936710922067)\n",
      "('confusion_matrix: ', array([[10302,    15,    10,    67],\n",
      "       [   30,  4634,   138,     0],\n",
      "       [   57,     6,  4357,   420],\n",
      "       [  666,   395,   517,  6328]]))\n"
     ]
    }
   ],
   "source": [
    "p1 = \"/media/tweng/ExtraDrive2/fabric_touch/bagfiles/franka_norub_folded_random_new/0cloth_norub_auto_0\"\n",
    "p2 = \"/media/tweng/ExtraDrive2/fabric_touch/bagfiles/franka_norub_folded_random_new/1cloth_norub_auto_0\"\n",
    "p3 = \"/media/tweng/ExtraDrive2/fabric_touch/bagfiles/franka_norub_folded_random_new/2cloth_norub_auto_0\"\n",
    "clf, scaler = create_clf_plot_from_dir([p1,p2,p3], file_name=\"/reskin_data.csv\" , randomize=True, train_percent=100)"
   ]
  },
  {
   "cell_type": "code",
   "execution_count": 36,
   "metadata": {},
   "outputs": [
    {
     "name": "stdout",
     "output_type": "stream",
     "text": [
      "KNeighborsClassifier\n",
      "('balanced accuracy: ', 0.8490741264485689)\n",
      "('confusion_matrix: ', array([[4363,    8,    5,  114],\n",
      "       [   5, 1977,    0,    3],\n",
      "       [   8,    0, 1206,  806],\n",
      "       [  53,    0,  508, 2770]]))\n",
      "RandomForestClassifier\n",
      "('balanced accuracy: ', 0.8859296326570687)\n",
      "('confusion_matrix: ', array([[4421,    5,    1,   63],\n",
      "       [   5, 1980,    0,    0],\n",
      "       [   7,    0, 1206,  807],\n",
      "       [  80,    0,   38, 3213]]))\n",
      "SVC\n",
      "('balanced accuracy: ', 0.8540961793395607)\n",
      "('confusion_matrix: ', array([[4318,    8,    3,  161],\n",
      "       [   7, 1977,    0,    1],\n",
      "       [   6,    0, 1208,  806],\n",
      "       [  59,    0,  405, 2867]]))\n",
      "LogisticRegression\n",
      "('balanced accuracy: ', 0.6906381009271588)\n",
      "('confusion_matrix: ', array([[4429,    2,   38,   21],\n",
      "       [ 447,  960,  578,    0],\n",
      "       [   7,    1,  905, 1107],\n",
      "       [ 487,    0,   31, 2813]]))\n"
     ]
    }
   ],
   "source": [
    "p1 = \"/media/tweng/ExtraDrive2/fabric_touch/bagfiles/franka_norub_folded_random_new/0cloth_norub_auto_0\"\n",
    "p2 = \"/media/tweng/ExtraDrive2/fabric_touch/bagfiles/franka_norub_folded_random_new/1cloth_norub_auto_0\"\n",
    "p3 = \"/media/tweng/ExtraDrive2/fabric_touch/bagfiles/franka_norub_folded_random_new/2cloth_norub_auto_0\"\n",
    "clf, scaler = create_clf_plot_from_dir([p1,p2,p3], file_name=\"/reskin_data.csv\" , randomize=True, train_percent=90)"
   ]
  },
  {
   "cell_type": "code",
   "execution_count": 38,
   "metadata": {},
   "outputs": [
    {
     "data": {
      "text/plain": [
       "['/media/tweng/ExtraDrive2/fabric_touch/classifiers/3classes_90percent_data_19feb/scaler.joblib']"
      ]
     },
     "execution_count": 38,
     "metadata": {},
     "output_type": "execute_result"
    }
   ],
   "source": [
    "from joblib import dump, load\n",
    "dump(clf, '/media/tweng/ExtraDrive2/fabric_touch/classifiers/3classes_90percent_data_19feb/classifier.joblib')\n",
    "dump(scaler, '/media/tweng/ExtraDrive2/fabric_touch/classifiers/3classes_90percent_data_19feb/scaler.joblib') "
   ]
  },
  {
   "cell_type": "code",
   "execution_count": 39,
   "metadata": {},
   "outputs": [],
   "source": [
    "clf = load('/media/tweng/ExtraDrive2/fabric_touch/classifiers/3classes_90percent_data_19feb/classifier.joblib')"
   ]
  },
  {
   "cell_type": "code",
   "execution_count": 37,
   "metadata": {},
   "outputs": [
    {
     "name": "stdout",
     "output_type": "stream",
     "text": [
      "KNeighborsClassifier\n",
      "('balanced accuracy: ', 0.9920281108815221)\n",
      "('confusion_matrix: ', array([[3869,    3,    4,   22],\n",
      "       [   7, 2004,    0,    0],\n",
      "       [  21,    0, 2023,    1],\n",
      "       [  21,    0,    0, 2036]]))\n",
      "RandomForestClassifier\n",
      "('balanced accuracy: ', 0.9921613013453346)\n",
      "('confusion_matrix: ', array([[3871,    3,    3,   21],\n",
      "       [   6, 2005,    0,    0],\n",
      "       [  18,    0, 2026,    1],\n",
      "       [  25,    0,    0, 2032]]))\n",
      "SVC\n",
      "('balanced accuracy: ', 0.9932490331449992)\n",
      "('confusion_matrix: ', array([[3869,    4,    3,   22],\n",
      "       [   5, 2006,    0,    0],\n",
      "       [  22,    0, 2023,    0],\n",
      "       [  13,    0,    0, 2044]]))\n",
      "LogisticRegression\n",
      "('balanced accuracy: ', 0.9849885309831508)\n",
      "('confusion_matrix: ', array([[3832,    8,    9,   49],\n",
      "       [  21, 1990,    0,    0],\n",
      "       [  32,    3, 2010,    0],\n",
      "       [  32,    0,    0, 2025]]))\n"
     ]
    }
   ],
   "source": [
    "p1 = \"/media/tweng/ExtraDrive2/fabric_touch/bagfiles/franka_folded_random_autorobot/0cloth_norub_auto_robot_0\"\n",
    "p2 = \"/media/tweng/ExtraDrive2/fabric_touch/bagfiles/franka_folded_random_autorobot/1cloth_norub_auto_robot_0\"\n",
    "p3 = \"/media/tweng/ExtraDrive2/fabric_touch/bagfiles/franka_folded_random_autorobot/2cloth_norub_auto_robot_0\"\n",
    "clf, scaler = create_clf_plot_from_dir([p1,p2,p3], file_name=\"/reskin_data.csv\" , randomize=True, train_percent=90)"
   ]
  },
  {
   "cell_type": "code",
   "execution_count": 38,
   "metadata": {},
   "outputs": [
    {
     "data": {
      "text/plain": [
       "['/media/tweng/ExtraDrive2/fabric_touch/classifiers/3classes_90percent_data_20feb_auto_collect_franka_knn/classifier.joblib']"
      ]
     },
     "execution_count": 38,
     "metadata": {},
     "output_type": "execute_result"
    }
   ],
   "source": [
    "from joblib import dump, load\n",
    "dump(clf[2], '/media/tweng/ExtraDrive2/fabric_touch/classifiers/3classes_90percent_data_20feb_auto_collect_franka_svc/classifier.joblib')\n",
    "dump(clf[3], '/media/tweng/ExtraDrive2/fabric_touch/classifiers/3classes_90percent_data_20feb_auto_collect_franka_lr/classifier.joblib')\n",
    "dump(clf[1], '/media/tweng/ExtraDrive2/fabric_touch/classifiers/3classes_90percent_data_20feb_auto_collect_franka_rf/classifier.joblib')\n",
    "dump(clf[0], '/media/tweng/ExtraDrive2/fabric_touch/classifiers/3classes_90percent_data_20feb_auto_collect_franka_knn/classifier.joblib')\n",
    "\n",
    "dump(scaler, '/media/tweng/ExtraDrive2/fabric_touch/classifiers/3classes_90percent_data_20feb_auto_collect_franka_svc/classifier.joblib')\n",
    "dump(scaler, '/media/tweng/ExtraDrive2/fabric_touch/classifiers/3classes_90percent_data_20feb_auto_collect_franka_lr/classifier.joblib')\n",
    "dump(scaler, '/media/tweng/ExtraDrive2/fabric_touch/classifiers/3classes_90percent_data_20feb_auto_collect_franka_rf/classifier.joblib')\n",
    "dump(scaler, '/media/tweng/ExtraDrive2/fabric_touch/classifiers/3classes_90percent_data_20feb_auto_collect_franka_knn/classifier.joblib')\n",
    "\n",
    "\n",
    "#dump(scaler, '/media/tweng/ExtraDrive2/fabric_touch/classifiers/3classes_90percent_data_20feb_auto_collect_franka/scaler.joblib') "
   ]
  },
  {
   "cell_type": "code",
   "execution_count": 31,
   "metadata": {},
   "outputs": [
    {
     "name": "stdout",
     "output_type": "stream",
     "text": [
      "KNeighborsClassifier\n",
      "('balanced accuracy: ', 0.9877575545704109)\n",
      "('confusion_matrix: ', array([[3838,    4,   12,   10],\n",
      "       [   8, 2004,    0,    0],\n",
      "       [  18,    0, 2015,    1],\n",
      "       [  42,    0,   19, 2048]]))\n",
      "RandomForestClassifier\n",
      "('balanced accuracy: ', 0.9870241930581061)\n",
      "('confusion_matrix: ', array([[3846,    3,    5,   10],\n",
      "       [   8, 2004,    0,    0],\n",
      "       [  30,    3, 2000,    1],\n",
      "       [  41,    0,   15, 2053]]))\n",
      "SVC\n",
      "('balanced accuracy: ', 0.9880254407541272)\n",
      "('confusion_matrix: ', array([[3847,    3,    5,    9],\n",
      "       [   7, 2005,    0,    0],\n",
      "       [  20,    0, 1996,   18],\n",
      "       [  45,    0,    0, 2064]]))\n",
      "LogisticRegression\n",
      "('balanced accuracy: ', 0.9798136608909984)\n",
      "('confusion_matrix: ', array([[3831,   12,   16,    5],\n",
      "       [  19, 1993,    0,    0],\n",
      "       [  32,    5, 1997,    0],\n",
      "       [  70,    0,   24, 2015]]))\n"
     ]
    }
   ],
   "source": [
    "clf, scaler = create_clf_plot_from_dir([p1,p2,p3], file_name=\"/reskin_data.csv\" , randomize=True, train_percent=90)"
   ]
  },
  {
   "cell_type": "code",
   "execution_count": 40,
   "metadata": {},
   "outputs": [
    {
     "data": {
      "text/plain": [
       "array([[-2.50048606e-03,  2.54210417e-03,  2.81148452e-03,\n",
       "        -3.42073130e-03,  3.49938431e-03, -3.54811109e-03,\n",
       "         2.32379497e-03,  2.31248375e-03, -1.55973065e-03,\n",
       "        -2.01410424e-03, -1.99473201e-03,  8.49898921e-04,\n",
       "         1.91055245e-03, -3.82990742e-04,  6.17025391e-04],\n",
       "       [-5.37956624e-04, -9.91840444e-04, -1.49026013e-03,\n",
       "         1.19259029e-03, -1.73562783e-03,  1.35227966e-03,\n",
       "         7.80239194e-05, -6.51306151e-04,  1.43436393e-04,\n",
       "         2.34158464e-04, -8.74341151e-04,  6.77434845e-04,\n",
       "         1.18315271e-03,  1.34729008e-03,  1.26205807e-03],\n",
       "       [ 7.78780159e-04, -2.12491648e-03, -1.66908232e-03,\n",
       "         1.07259319e-03, -1.32939174e-03,  1.42053067e-03,\n",
       "        -2.47144632e-03, -8.55740261e-04, -2.69031812e-04,\n",
       "         1.80739342e-03,  1.88246588e-04,  6.16966195e-04,\n",
       "        -4.14733473e-04,  1.25036296e-03,  6.23854125e-04],\n",
       "       [ 2.27159634e-03,  4.97959866e-04,  2.85681901e-04,\n",
       "         1.24061690e-03, -4.66724991e-04,  8.66403933e-04,\n",
       "        -6.98857766e-06, -9.03325933e-04,  1.68418139e-03,\n",
       "        -9.74382696e-05,  2.66131179e-03, -2.11962383e-03,\n",
       "        -2.63658801e-03, -2.10614525e-03, -2.38233919e-03]])"
      ]
     },
     "execution_count": 40,
     "metadata": {},
     "output_type": "execute_result"
    }
   ],
   "source": [
    "clf[3].coef_"
   ]
  },
  {
   "cell_type": "code",
   "execution_count": 2,
   "metadata": {},
   "outputs": [
    {
     "name": "stderr",
     "output_type": "stream",
     "text": [
      "/home/tweng/.local/lib/python2.7/site-packages/sklearn/ensemble/forest.py:246: FutureWarning: The default value of n_estimators will change from 10 in version 0.20 to 100 in 0.22.\n",
      "  \"10 in version 0.20 to 100 in 0.22.\", FutureWarning)\n",
      "/home/tweng/.local/lib/python2.7/site-packages/sklearn/svm/base.py:196: FutureWarning: The default value of gamma will change from 'auto' to 'scale' in version 0.22 to account better for unscaled features. Set gamma explicitly to 'auto' or 'scale' to avoid this warning.\n",
      "  \"avoid this warning.\", FutureWarning)\n",
      "/home/tweng/.local/lib/python2.7/site-packages/sklearn/linear_model/logistic.py:433: FutureWarning: Default solver will be changed to 'lbfgs' in 0.22. Specify a solver to silence this warning.\n",
      "  FutureWarning)\n",
      "/home/tweng/.local/lib/python2.7/site-packages/sklearn/linear_model/logistic.py:460: FutureWarning: Default multi_class will be changed to 'auto' in 0.22. Specify the multi_class option to silence this warning.\n",
      "  \"this warning.\", FutureWarning)\n"
     ]
    },
    {
     "name": "stdout",
     "output_type": "stream",
     "text": [
      "KNeighborsClassifier\n",
      "('balanced accuracy: ', 0.976269824254453)\n",
      "('confusion_matrix: ', array([[3968,    5,   10,  234],\n",
      "       [   3, 2061,    0,    0],\n",
      "       [   9,   15, 2070,   15],\n",
      "       [  16,    0,   16, 1977]]))\n",
      "RandomForestClassifier\n",
      "('balanced accuracy: ', 0.9207435297745534)\n",
      "('confusion_matrix: ', array([[3978,    3,    8,  228],\n",
      "       [   4, 2060,    0,    0],\n",
      "       [  13,   19, 2070,    7],\n",
      "       [  33,    0,  449, 1527]]))\n",
      "SVC\n",
      "('balanced accuracy: ', 0.9740544286592535)\n",
      "('confusion_matrix: ', array([[3977,    2,    4,  234],\n",
      "       [   3, 2061,    0,    0],\n",
      "       [   9,    3, 2093,    4],\n",
      "       [  33,    0,   43, 1933]]))\n",
      "LogisticRegression\n",
      "('balanced accuracy: ', 0.6493773514508605)\n",
      "('confusion_matrix: ', array([[4013,   28,    0,  176],\n",
      "       [   8, 2056,    0,    0],\n",
      "       [  25, 1647,  414,   23],\n",
      "       [ 134,  948,   16,  911]]))\n"
     ]
    }
   ],
   "source": [
    "p1 = \"/media/tweng/ExtraDrive2/fabric_touch/bagfiles/franka_angled_autorobot_random/0cloth_norub_auto\"\n",
    "p2 = \"/media/tweng/ExtraDrive2/fabric_touch/bagfiles/franka_angled_autorobot_random/1cloth_norub_auto\"\n",
    "p3 = \"/media/tweng/ExtraDrive2/fabric_touch/bagfiles/franka_angled_autorobot_random/2cloth_norub_auto\"\n",
    "p4 = \"/media/tweng/ExtraDrive2/fabric_touch/bagfiles/franka_angled_autorobot_random/3cloth_norub_auto\"\n",
    "clf, scaler = create_clf_plot_from_dir([p1,p2,p3], file_name=\"/reskin_data.csv\" , randomize=True, train_percent=90)   "
   ]
  },
  {
   "cell_type": "code",
   "execution_count": 6,
   "metadata": {},
   "outputs": [],
   "source": [
    "from joblib import dump, load\n",
    "base_name = \"/media/tweng/ExtraDrive2/fabric_touch/classifiers/3classes_90percent_data_24feb_auto_collect_franka\"\n",
    "labels=[\"knn\", \"rf\", \"svc\", \"lr\"]\n",
    "for i in range(4):\n",
    "    name = base_name+\"_\"+labels[i]\n",
    "    if not os.path.isdir(name):\n",
    "        os.mkdir(name)\n",
    "    dump( clf[i], name+\"/classifier.joblib\",)\n",
    "    dump(scaler, name+\"/scaler.joblib\")\n"
   ]
  },
  {
   "cell_type": "code",
   "execution_count": 6,
   "metadata": {},
   "outputs": [
    {
     "name": "stdout",
     "output_type": "stream",
     "text": [
      "KNeighborsClassifier\n",
      "('balanced accuracy: ', 0.940256494346999)\n",
      "('confusion_matrix: ', array([[14551,    16,    45,    50,    57],\n",
      "       [   18,  5364,     0,     2,     0],\n",
      "       [   42,     0,  5141,   403,   119],\n",
      "       [  395,    45,   227,  4766,   273],\n",
      "       [   80,     0,    28,     6,  5589]]))\n",
      "RandomForestClassifier\n",
      "('balanced accuracy: ', 0.9449657071407123)\n",
      "('confusion_matrix: ', array([[14588,     5,    37,    48,    41],\n",
      "       [   10,  5364,     0,    10,     0],\n",
      "       [   48,     0,  5239,   278,   140],\n",
      "       [  183,    41,   406,  4801,   275],\n",
      "       [   85,     0,    37,     5,  5576]]))\n",
      "SVC\n",
      "('balanced accuracy: ', 0.9422249770261922)\n",
      "('confusion_matrix: ', array([[14604,     9,    41,    31,    34],\n",
      "       [   10,  5374,     0,     0,     0],\n",
      "       [   44,     0,  5341,   286,    34],\n",
      "       [  417,    38,   267,  4626,   358],\n",
      "       [   95,     0,    28,    26,  5554]]))\n",
      "LogisticRegression\n",
      "('balanced accuracy: ', 0.8165783021200694)\n",
      "('confusion_matrix: ', array([[14567,    25,    84,     7,    36],\n",
      "       [  130,  5039,   120,    95,     0],\n",
      "       [  120,     1,  4690,   773,   121],\n",
      "       [  160,   814,  1973,  2455,   304],\n",
      "       [  144,     7,   107,   284,  5161]]))\n"
     ]
    },
    {
     "ename": "IOError",
     "evalue": "[Errno 2] No such file or directory: '/media/tweng/ExtraDrive2/fabric_touch/classifiers/4classes_angledfeb25all__90percent_svc/classifier.joblib'",
     "output_type": "error",
     "traceback": [
      "\u001b[0;31m---------------------------------------------------------------------------\u001b[0m",
      "\u001b[0;31mIOError\u001b[0m                                   Traceback (most recent call last)",
      "\u001b[0;32m<ipython-input-6-317b5b97289d>\u001b[0m in \u001b[0;36m<module>\u001b[0;34m()\u001b[0m\n\u001b[1;32m     16\u001b[0m \u001b[0;31m# dump(scaler, '/media/tweng/ExtraDrive2/fabric_touch/classifiers/3classes_90percent_data_20feb_auto_collect_franka_knn/classifier.joblib')\u001b[0m\u001b[0;34m\u001b[0m\u001b[0;34m\u001b[0m\u001b[0m\n\u001b[1;32m     17\u001b[0m \u001b[0;34m\u001b[0m\u001b[0m\n\u001b[0;32m---> 18\u001b[0;31m \u001b[0mdump\u001b[0m\u001b[0;34m(\u001b[0m\u001b[0mclf\u001b[0m\u001b[0;34m[\u001b[0m\u001b[0;36m2\u001b[0m\u001b[0;34m]\u001b[0m\u001b[0;34m,\u001b[0m \u001b[0;34m'/media/tweng/ExtraDrive2/fabric_touch/classifiers/4classes_angledfeb25all__90percent_svc/classifier.joblib'\u001b[0m\u001b[0;34m)\u001b[0m\u001b[0;34m\u001b[0m\u001b[0m\n\u001b[0m\u001b[1;32m     19\u001b[0m \u001b[0mdump\u001b[0m\u001b[0;34m(\u001b[0m\u001b[0mclf\u001b[0m\u001b[0;34m[\u001b[0m\u001b[0;36m3\u001b[0m\u001b[0;34m]\u001b[0m\u001b[0;34m,\u001b[0m \u001b[0;34m'/media/tweng/ExtraDrive2/fabric_touch/classifiers/4classes_angledfeb25all__90percent_lr/classifier.joblib'\u001b[0m\u001b[0;34m)\u001b[0m\u001b[0;34m\u001b[0m\u001b[0m\n\u001b[1;32m     20\u001b[0m \u001b[0mdump\u001b[0m\u001b[0;34m(\u001b[0m\u001b[0mclf\u001b[0m\u001b[0;34m[\u001b[0m\u001b[0;36m1\u001b[0m\u001b[0;34m]\u001b[0m\u001b[0;34m,\u001b[0m \u001b[0;34m'/media/tweng/ExtraDrive2/fabric_touch/classifiers/4classes_angledfeb25all__90percent_rf/classifier.joblib'\u001b[0m\u001b[0;34m)\u001b[0m\u001b[0;34m\u001b[0m\u001b[0m\n",
      "\u001b[0;32m/usr/lib/python2.7/dist-packages/joblib/numpy_pickle.pyc\u001b[0m in \u001b[0;36mdump\u001b[0;34m(value, filename, compress, protocol, cache_size)\u001b[0m\n\u001b[1;32m    481\u001b[0m             \u001b[0mNumpyPickler\u001b[0m\u001b[0;34m(\u001b[0m\u001b[0mf\u001b[0m\u001b[0;34m,\u001b[0m \u001b[0mprotocol\u001b[0m\u001b[0;34m=\u001b[0m\u001b[0mprotocol\u001b[0m\u001b[0;34m)\u001b[0m\u001b[0;34m.\u001b[0m\u001b[0mdump\u001b[0m\u001b[0;34m(\u001b[0m\u001b[0mvalue\u001b[0m\u001b[0;34m)\u001b[0m\u001b[0;34m\u001b[0m\u001b[0m\n\u001b[1;32m    482\u001b[0m     \u001b[0;32melif\u001b[0m \u001b[0mis_filename\u001b[0m\u001b[0;34m:\u001b[0m\u001b[0;34m\u001b[0m\u001b[0m\n\u001b[0;32m--> 483\u001b[0;31m         \u001b[0;32mwith\u001b[0m \u001b[0mopen\u001b[0m\u001b[0;34m(\u001b[0m\u001b[0mfilename\u001b[0m\u001b[0;34m,\u001b[0m \u001b[0;34m'wb'\u001b[0m\u001b[0;34m)\u001b[0m \u001b[0;32mas\u001b[0m \u001b[0mf\u001b[0m\u001b[0;34m:\u001b[0m\u001b[0;34m\u001b[0m\u001b[0m\n\u001b[0m\u001b[1;32m    484\u001b[0m             \u001b[0mNumpyPickler\u001b[0m\u001b[0;34m(\u001b[0m\u001b[0mf\u001b[0m\u001b[0;34m,\u001b[0m \u001b[0mprotocol\u001b[0m\u001b[0;34m=\u001b[0m\u001b[0mprotocol\u001b[0m\u001b[0;34m)\u001b[0m\u001b[0;34m.\u001b[0m\u001b[0mdump\u001b[0m\u001b[0;34m(\u001b[0m\u001b[0mvalue\u001b[0m\u001b[0;34m)\u001b[0m\u001b[0;34m\u001b[0m\u001b[0m\n\u001b[1;32m    485\u001b[0m     \u001b[0;32melse\u001b[0m\u001b[0;34m:\u001b[0m\u001b[0;34m\u001b[0m\u001b[0m\n",
      "\u001b[0;31mIOError\u001b[0m: [Errno 2] No such file or directory: '/media/tweng/ExtraDrive2/fabric_touch/classifiers/4classes_angledfeb25all__90percent_svc/classifier.joblib'"
     ]
    }
   ],
   "source": [
    "p1 = \"/media/ExtraDrive3/fabric_touch/bagfiles/angled_feb25_all/0cloth_norub_auto_robot\"\n",
    "p2 = \"/media/ExtraDrive3/fabric_touch/bagfiles/angled_feb25_all/1cloth_norub_auto_robot\"\n",
    "p3 = \"/media/ExtraDrive3/fabric_touch/bagfiles/angled_feb25_all/2cloth_norub_auto_robot\"\n",
    "p4 = \"/media/ExtraDrive3/fabric_touch/bagfiles/angled_feb25_all/3cloth_norub_auto_robot\"\n",
    "\n",
    "clf, scaler = create_clf_plot_from_dir([p1,p2,p3,p4], file_name=\"/reskin_data.csv\" , randomize=True, train_percent=75)  \n",
    "from joblib import dump, load\n",
    "# dump(clf[2], '/media/tweng/ExtraDrive2/fabric_touch/classifiers/3classes_90percent_data_20feb_auto_collect_franka_svc/classifier.joblib')\n",
    "# dump(clf[3], '/media/tweng/ExtraDrive2/fabric_touch/classifiers/3classes_90percent_data_20feb_auto_collect_franka_lr/classifier.joblib')\n",
    "# dump(clf[1], '/media/tweng/ExtraDrive2/fabric_touch/classifiers/3classes_90percent_data_20feb_auto_collect_franka_rf/classifier.joblib')\n",
    "# dump(clf[0], '/media/tweng/ExtraDrive2/fabric_touch/classifiers/3classes_90percent_data_20feb_auto_collect_franka_knn/classifier.joblib')\n",
    "\n",
    "# dump(scaler, '/media/tweng/ExtraDrive2/fabric_touch/classifiers/3classes_90percent_data_20feb_auto_collect_franka_svc/classifier.joblib')\n",
    "# dump(scaler, '/media/tweng/ExtraDrive2/fabric_touch/classifiers/3classes_90percent_data_20feb_auto_collect_franka_lr/classifier.joblib')\n",
    "# dump(scaler, '/media/tweng/ExtraDrive2/fabric_touch/classifiers/3classes_90percent_data_20feb_auto_collect_franka_rf/classifier.joblib')\n",
    "# dump(scaler, '/media/tweng/ExtraDrive2/fabric_touch/classifiers/3classes_90percent_data_20feb_auto_collect_franka_knn/classifier.joblib')\n",
    "\n",
    "dump(clf[2], '/media/tweng/ExtraDrive2/fabric_touch/classifiers/4classes_angledfeb25all_90percent_svc/classifier.joblib')\n",
    "dump(clf[3], '/media/tweng/ExtraDrive2/fabric_touch/classifiers/4classes_angledfeb25all_90percent_lr/classifier.joblib')\n",
    "dump(clf[1], '/media/tweng/ExtraDrive2/fabric_touch/classifiers/4classes_angledfeb25all_90percent_rf/classifier.joblib')\n",
    "dump(clf[0], '/media/tweng/ExtraDrive2/fabric_touch/classifiers/4classes_angledfeb25all_90percent_knn/classifier.joblib')\n",
    "\n",
    "dump(scaler, '/media/tweng/ExtraDrive2/fabric_touch/classifiers/4classes_angledfeb25all_90percent_svc/scaler.joblib')\n",
    "dump(scaler, '/media/tweng/ExtraDrive2/fabric_touch/classifiers/4classes_angledfeb25all_90percent_lr/scaler.joblib')\n",
    "dump(scaler, '/media/tweng/ExtraDrive2/fabric_touch/classifiers/4classes_angledfeb25all_90percent_rf/scaler.joblib')\n",
    "dump(scaler, '/media/tweng/ExtraDrive2/fabric_touch/classifiers/4classes_angledfeb25all_90percent_knn/scaler.joblib')\n",
    "\n",
    "\n",
    "# #dump(scaler, '/media/tweng/ExtraDrive2/fabric_touch/classifiers/3classes_90percent_data_20feb_auto_collect_franka/scaler.joblib') "
   ]
  },
  {
   "cell_type": "code",
   "execution_count": 5,
   "metadata": {},
   "outputs": [
    {
     "data": {
      "text/plain": [
       "['/media/ExtraDrive3/fabric_touch/classifiers/3classes_90percent_data_25feb_auto_collect_franka_knn/scaler.joblib']"
      ]
     },
     "execution_count": 5,
     "metadata": {},
     "output_type": "execute_result"
    }
   ],
   "source": [
    "dump(clf[2], '/media/ExtraDrive3/fabric_touch/classifiers/3classes_90percent_data_25feb_auto_collect_franka_svc/classifier.joblib')\n",
    "dump(clf[3], '/media/ExtraDrive3/fabric_touch/classifiers/3classes_90percent_data_25feb_auto_collect_franka_lr/classifier.joblib')\n",
    "dump(clf[1], '/media/ExtraDrive3/fabric_touch/classifiers/3classes_90percent_data_25feb_auto_collect_franka_rf/classifier.joblib')\n",
    "dump(clf[0], '/media/ExtraDrive3/fabric_touch/classifiers/3classes_90percent_data_25feb_auto_collect_franka_knn/classifier.joblib')\n",
    "\n",
    "dump(scaler, '/media/ExtraDrive3/fabric_touch/classifiers/3classes_90percent_data_25feb_auto_collect_franka_svc/scaler.joblib')\n",
    "dump(scaler, '/media/ExtraDrive3/fabric_touch/classifiers/3classes_90percent_data_25feb_auto_collect_franka_lr/scaler.joblib')\n",
    "dump(scaler, '/media/ExtraDrive3/fabric_touch/classifiers/3classes_90percent_data_25feb_auto_collect_franka_rf/scaler.joblib')\n",
    "dump(scaler, '/media/ExtraDrive3/fabric_touch/classifiers/3classes_90percent_data_25feb_auto_collect_franka_knn/scaler.joblib')\n"
   ]
  },
  {
   "cell_type": "code",
   "execution_count": null,
   "metadata": {},
   "outputs": [],
   "source": [
    "p1 = \"/media/ExtraDrive3/fabric_touch/bagfiles/angled_feb25_all/0cloth_norub_auto_robot\"\n",
    "p2 = \"/media/ExtraDrive3/fabric_touch/bagfiles/angled_feb25_all/1cloth_norub_auto_robot\"\n",
    "p3 = \"/media/ExtraDrive3/fabric_touch/bagfiles/angled_feb25_all/2cloth_norub_auto_robot\"\n",
    "p4 = \"/media/ExtraDrive3/fabric_touch/bagfiles/angled_feb25_all/3cloth_norub_auto_robot\"\n",
    "\n",
    "clf, scaler = create_clf_plot_from_dir([p1,p2,p3,p4], file_name=\"/reskin_data.csv\" , randomize=True, train_percent=75)"
   ]
  },
  {
   "cell_type": "code",
   "execution_count": 8,
   "metadata": {},
   "outputs": [
    {
     "data": {
      "text/plain": [
       "['/media/ExtraDrive3/fabric_touch/classifiers/4classes_angledfeb25all_90percent_knn/scaler.joblib']"
      ]
     },
     "execution_count": 8,
     "metadata": {},
     "output_type": "execute_result"
    }
   ],
   "source": [
    "dump(clf[2], '/media/ExtraDrive3/fabric_touch/classifiers/4classes_angledfeb25all_90percent_svc/classifier.joblib')\n",
    "dump(clf[3], '/media/ExtraDrive3/fabric_touch/classifiers/4classes_angledfeb25all_90percent_lr/classifier.joblib')\n",
    "dump(clf[1], '/media/ExtraDrive3/fabric_touch/classifiers/4classes_angledfeb25all_90percent_rf/classifier.joblib')\n",
    "dump(clf[0], '/media/ExtraDrive3/fabric_touch/classifiers/4classes_angledfeb25all_90percent_knn/classifier.joblib')\n",
    "\n",
    "dump(scaler, '/media/ExtraDrive3/fabric_touch/classifiers/4classes_angledfeb25all_90percent_svc/scaler.joblib')\n",
    "dump(scaler, '/media/ExtraDrive3/fabric_touch/classifiers/4classes_angledfeb25all_90percent_lr/scaler.joblib')\n",
    "dump(scaler, '/media/ExtraDrive3/fabric_touch/classifiers/4classes_angledfeb25all_90percent_rf/scaler.joblib')\n",
    "dump(scaler, '/media/ExtraDrive3/fabric_touch/classifiers/4classes_angledfeb25all_90percent_knn/scaler.joblib')"
   ]
  },
  {
   "cell_type": "code",
   "execution_count": 9,
   "metadata": {},
   "outputs": [
    {
     "name": "stdout",
     "output_type": "stream",
     "text": [
      "KNeighborsClassifier\n",
      "('balanced accuracy: ', 0.9366347507860926)\n",
      "('confusion_matrix: ', array([[35286,    91,    88,   768,   142],\n",
      "       [   39, 13051,     0,     4,     0],\n",
      "       [  118,     0, 12614,   899,   196],\n",
      "       [  550,   295,   681, 11376,   534],\n",
      "       [  187,     0,   145,   257, 13251]]))\n",
      "RandomForestClassifier\n",
      "('balanced accuracy: ', 0.9453086793406922)\n",
      "('confusion_matrix: ', array([[35372,    16,    59,   821,   107],\n",
      "       [   38, 13050,     0,     6,     0],\n",
      "       [  132,     0, 12554,  1128,    13],\n",
      "       [  400,    15,   677, 11929,   415],\n",
      "       [  193,     0,   102,   235, 13310]]))\n",
      "SVC\n",
      "('balanced accuracy: ', 0.9643196404582894)\n",
      "('confusion_matrix: ', array([[35377,    20,    76,   791,   111],\n",
      "       [   32, 13060,     0,     2,     0],\n",
      "       [  114,     0, 12732,   968,    13],\n",
      "       [  372,     4,   219, 12791,    50],\n",
      "       [  179,     0,    67,    47, 13547]]))\n",
      "LogisticRegression\n",
      "('balanced accuracy: ', 0.7240061497612824)\n",
      "('confusion_matrix: ', array([[35391,   743,   134,    17,    90],\n",
      "       [  318,  9198,   780,  2798,     0],\n",
      "       [  316,     2,  8850,  4620,    39],\n",
      "       [ 1437,  2338,  2131,  6627,   903],\n",
      "       [  355,     2,   976,  1278, 11229]]))\n"
     ]
    }
   ],
   "source": [
    "clf, scaler = create_clf_plot_from_dir([p1,p2,p3,p4], file_name=\"/reskin_data.csv\" , randomize=True, train_percent=75)  \n"
   ]
  },
  {
   "cell_type": "code",
   "execution_count": 4,
   "metadata": {},
   "outputs": [
    {
     "name": "stderr",
     "output_type": "stream",
     "text": [
      "/home/tweng/.local/lib/python2.7/site-packages/sklearn/ensemble/forest.py:246: FutureWarning: The default value of n_estimators will change from 10 in version 0.20 to 100 in 0.22.\n",
      "  \"10 in version 0.20 to 100 in 0.22.\", FutureWarning)\n",
      "/home/tweng/.local/lib/python2.7/site-packages/sklearn/svm/base.py:196: FutureWarning: The default value of gamma will change from 'auto' to 'scale' in version 0.22 to account better for unscaled features. Set gamma explicitly to 'auto' or 'scale' to avoid this warning.\n",
      "  \"avoid this warning.\", FutureWarning)\n",
      "/home/tweng/.local/lib/python2.7/site-packages/sklearn/linear_model/logistic.py:433: FutureWarning: Default solver will be changed to 'lbfgs' in 0.22. Specify a solver to silence this warning.\n",
      "  FutureWarning)\n",
      "/home/tweng/.local/lib/python2.7/site-packages/sklearn/linear_model/logistic.py:460: FutureWarning: Default multi_class will be changed to 'auto' in 0.22. Specify the multi_class option to silence this warning.\n",
      "  \"this warning.\", FutureWarning)\n"
     ]
    },
    {
     "name": "stdout",
     "output_type": "stream",
     "text": [
      "KNeighborsClassifier\n",
      "('balanced accuracy: ', 0.9699392847244761)\n",
      "('confusion_matrix: ', array([[27166,    42,    83,   153],\n",
      "       [   53, 13040,     0,     3],\n",
      "       [   93,     0, 13459,   259],\n",
      "       [  551,    82,   487, 12819]]))\n",
      "RandomForestClassifier\n",
      "('balanced accuracy: ', 0.9711716667000474)\n",
      "('confusion_matrix: ', array([[27234,     8,    56,   146],\n",
      "       [   34, 13044,     0,    18],\n",
      "       [  118,     0, 13558,   135],\n",
      "       [  460,    25,   705, 12749]]))\n",
      "SVC\n",
      "('balanced accuracy: ', 0.9772969041101554)\n",
      "('confusion_matrix: ', array([[27214,    17,    82,   131],\n",
      "       [   37, 13058,     0,     1],\n",
      "       [  101,     0, 13318,   392],\n",
      "       [   95,    14,   502, 13328]]))\n",
      "LogisticRegression\n",
      "('balanced accuracy: ', 0.7111311696288061)\n",
      "('confusion_matrix: ', array([[27189,    75,   171,     9],\n",
      "       [  352,  9935,   294,  2515],\n",
      "       [  337,     2, 12497,   975],\n",
      "       [  501,  1452,  9333,  2653]]))\n"
     ]
    }
   ],
   "source": [
    "p1 = \"/media/ExtraDrive3/fabric_touch/bagfiles/angled_feb25_all/0cloth_norub_auto_robot\"\n",
    "p2 = \"/media/ExtraDrive3/fabric_touch/bagfiles/angled_feb25_all/1cloth_norub_auto_robot\"\n",
    "p3 = \"/media/ExtraDrive3/fabric_touch/bagfiles/angled_feb25_all/2cloth_norub_auto_robot\"\n",
    "\n",
    "clf, scaler = create_clf_plot_from_dir([p1,p2,p3], file_name=\"/reskin_data.csv\" , randomize=True, train_percent=75)"
   ]
  },
  {
   "cell_type": "code",
   "execution_count": 6,
   "metadata": {},
   "outputs": [
    {
     "data": {
      "text/plain": [
       "['/media/ExtraDrive3/fabric_touch/classifiers/3classes_angledfeb25all_90percent_knn/scaler.joblib']"
      ]
     },
     "execution_count": 6,
     "metadata": {},
     "output_type": "execute_result"
    }
   ],
   "source": [
    "from joblib import dump, load\n",
    "\n",
    "dump(clf[2], '/media/ExtraDrive3/fabric_touch/classifiers/3classes_angledfeb25all_90percent_svc/classifier.joblib')\n",
    "dump(clf[3], '/media/ExtraDrive3/fabric_touch/classifiers/3classes_angledfeb25all_90percent_lr/classifier.joblib')\n",
    "dump(clf[1], '/media/ExtraDrive3/fabric_touch/classifiers/3classes_angledfeb25all_90percent_rf/classifier.joblib')\n",
    "dump(clf[0], '/media/ExtraDrive3/fabric_touch/classifiers/3classes_angledfeb25all_90percent_knn/classifier.joblib')\n",
    "\n",
    "dump(scaler, '/media/ExtraDrive3/fabric_touch/classifiers/3classes_angledfeb25all_90percent_svc/scaler.joblib')\n",
    "dump(scaler, '/media/ExtraDrive3/fabric_touch/classifiers/3classes_angledfeb25all_90percent_lr/scaler.joblib')\n",
    "dump(scaler, '/media/ExtraDrive3/fabric_touch/classifiers/3classes_angledfeb25all_90percent_rf/scaler.joblib')\n",
    "dump(scaler, '/media/ExtraDrive3/fabric_touch/classifiers/3classes_angledfeb25all_90percent_knn/scaler.joblib')"
   ]
  },
  {
   "cell_type": "code",
   "execution_count": null,
   "metadata": {},
   "outputs": [],
   "source": [
    "p2 = \"/media/ExtraDrive3/fabric_touch/datasets/franka_openloop_feb26/1cloth_norub\"\n",
    "p3 = \"/media/ExtraDrive3/fabric_touch/datasets/franka_openloop_feb26/1cloth_norub\"\n",
    "def create_label_from_classifier\n",
    "clf, scaler = create_clf_plot_from_dir([p1,p2,p3], file_name=\"/reskin_data.csv\" , randomize=True, train_percent=75)"
   ]
  },
  {
   "cell_type": "markdown",
   "metadata": {},
   "source": [
    "Now setup pipeline to take success trials, generate data labels and label all the data"
   ]
  },
  {
   "cell_type": "code",
   "execution_count": 113,
   "metadata": {},
   "outputs": [],
   "source": [
    "import shutil\n",
    "import numpy as np\n",
    "import rosbag\n",
    "from cv_bridge import CvBridge\n",
    "import cv2 \n",
    "def get_paths_of_success(folder_name):\n",
    "    internal_dirs = filter(lambda x: \".\" not in x, os.listdir(folder_name))\n",
    "    paths=[]\n",
    "    for dirn in internal_dirs:\n",
    "        sub_dir_name = os.listdir(folder_name + \"/\" +dirn)\n",
    "        is_success = False\n",
    "        for fname in sub_dir_name:\n",
    "            if(\"success\" in fname):\n",
    "                is_success = True\n",
    "        if(is_success):\n",
    "            for fname in sub_dir_name:\n",
    "                if(\"attempt\" in fname):\n",
    "                    paths.append(folder_name+\"/\"+dirn+\"/\"+fname)\n",
    "    return paths\n",
    "\n",
    "def get_paths_of_not_success(folder_name):\n",
    "    internal_dirs = filter(lambda x: \".\" not in x, os.listdir(folder_name))\n",
    "    paths=[]\n",
    "    for dirn in internal_dirs:\n",
    "        sub_dir_name = os.listdir(folder_name + \"/\" +dirn)\n",
    "        is_success = True\n",
    "        for fname in sub_dir_name:\n",
    "            if(\"success\" in fname):\n",
    "                is_success = False\n",
    "        if(is_success):\n",
    "            for fname in sub_dir_name:\n",
    "                if(\"attempt\" in fname):\n",
    "                    paths.append(folder_name+\"/\"+dirn+\"/\"+fname)\n",
    "    return paths\n",
    "\n",
    "def copy_paths(paths, dest_path):\n",
    "    for path in paths:\n",
    "        dst = dest_path+\"/\"+path.split(\"/\")[-1]\n",
    "        if os.path.exists(dst):\n",
    "            shutil.rmtree(dst)\n",
    "        shutil.copytree(path, dst)\n",
    "\n",
    "def create_label_from_norm(folder_name, label):\n",
    "    datas=[]\n",
    "    paths=[]\n",
    "    for dirn in os.listdir(folder_name):\n",
    "        reskin_data = np.loadtxt(folder_name+\"/\"+dirn+\"/reskin_data.csv\", delimiter=\",\")\n",
    "        dst = folder_name+\"/\"+dirn+\"/reskin_labelled_data.csv\"\n",
    "        labelled_reskin_data = get_label_from_norm(reskin_data, label)\n",
    "        np.savetxt(dst, labelled_reskin_data, delimiter=\",\")\n",
    "        paths.append(dst)\n",
    "        datas.append(labelled_reskin_data)\n",
    "    datas = np.vstack(datas)\n",
    "    return datas, paths\n",
    "\n",
    "def create_label_from_command(folder_name, label):\n",
    "    datas=[]\n",
    "    for dirn in os.listdir(folder_name):\n",
    "        bagpath = folder_name+\"/\"+dirn+\"/data.bag\"\n",
    "        labelled_reskin_data = get_label_from_command(bagpath, label)\n",
    "        np.savetxt(folder_name+\"/\"+dirn+\"/reskin_data.csv\", labelled_reskin_data, delimiter=\",\")\n",
    "        datas.append(labelled_reskin_data)\n",
    "    datas = np.vstack(datas)\n",
    "    return datas\n",
    "\n",
    "def get_label_from_command(bagfilepath, label):\n",
    "    bag = rosbag.Bag(bagfilepath)\n",
    "    bridge = CvBridge()\n",
    "    topics = ['/reskin', '/classifier_commands']\n",
    "    predicting = False\n",
    "    count = 0\n",
    "    res = []\n",
    "    for topic, msg, t in bag.read_messages(topics=topics):\n",
    "        if topic == '/classifier_commands':\n",
    "            if msg.data == 'start':\n",
    "                predicting = True\n",
    "#             elif msg.data == 'end':\n",
    "#                 predicting = False\n",
    "        if topic == '/reskin':\n",
    "            if(predicting):\n",
    "                data = np.array(msg.data) # 5 x (T x y z)\n",
    "                magns = np.array([\n",
    "                    data[1], data[2], data[3],\n",
    "                    data[5], data[6], data[7],\n",
    "                    data[9], data[10], data[11],\n",
    "                    data[13], data[14], data[15],\n",
    "                    data[17], data[18], data[19],label,int(str(t))\n",
    "                ])\n",
    "            else:\n",
    "                data = np.array(msg.data) # 5 x (T x y z)\n",
    "                magns = np.array([\n",
    "                    data[1], data[2], data[3],\n",
    "                    data[5], data[6], data[7],\n",
    "                    data[9], data[10], data[11],\n",
    "                    data[13], data[14], data[15],\n",
    "                    data[17], data[18], data[19],0,int(str(t))\n",
    "                ])\n",
    "                \n",
    "            res.append(magns)\n",
    "    res = np.vstack(res)\n",
    "    return res\n",
    "    \n",
    "\n",
    "\n",
    "def get_label_from_norm(data, label):\n",
    "    sqdata = np.square(data)\n",
    "    diff_norm_data = np.abs(np.diff(np.mean(sqdata, axis = 1)))\n",
    "    init_index = np.argmax(diff_norm_data)\n",
    "    labels = np.reshape(np.zeros(data.shape[0]),(-1,1))\n",
    "    labels[init_index:,0] = label\n",
    "    labels = labels\n",
    "    labelled_data = np.array(data)\n",
    "    labelled_data[:,-2] = labels.ravel()\n",
    "    return labelled_data\n",
    "\n",
    "    \n",
    "        \n",
    "        "
   ]
  },
  {
   "cell_type": "code",
   "execution_count": null,
   "metadata": {},
   "outputs": [],
   "source": [
    "\n"
   ]
  },
  {
   "cell_type": "code",
   "execution_count": 132,
   "metadata": {},
   "outputs": [],
   "source": [
    "p1 = \"/media/ExtraDrive4/fabric_touch/datasets/2022-02-26-17-28-59_finetune_noisymanual (copy)/1cloth-openloop\"\n",
    "p2 = \"/media/ExtraDrive4/fabric_touch/datasets/2022-02-26-17-28-59_finetune_noisymanual (copy)/2cloth-openloop\"\n",
    "p3 = \"/media/ExtraDrive4/fabric_touch/datasets/2022-02-26-19-55-40_finetune_noisymanual/3cloth-openloop\"\n",
    "\n",
    "dest_path = \"/media/ExtraDrive4/fabric_touch/datasets/finetune_noisymanual_clean/\"\n",
    "ps = [p1,p2,p3]\n",
    "dests = []\n",
    "reskin_paths = []\n",
    "reskin_data = []\n",
    "for p in ps:\n",
    "    success_paths = get_paths_of_success(p)\n",
    "    cur_dest = dest_path + p.split(\"/\")[-1]\n",
    "    dests.append(cur_dest)\n",
    "    copy_paths(success_paths, cur_dest)\n",
    "for p in dests:\n",
    "    if(\"1cloth\" in p):\n",
    "        label=2\n",
    "    elif(\"2cloth\" in p):\n",
    "        label=3\n",
    "    elif(\"3cloth\" in p):\n",
    "        label=4\n",
    "    temp_data = create_label_from_command(p, label)\n",
    "\n"
   ]
  },
  {
   "cell_type": "code",
   "execution_count": 126,
   "metadata": {},
   "outputs": [
    {
     "name": "stdout",
     "output_type": "stream",
     "text": [
      "['/media/ExtraDrive4/fabric_touch/datasets/finetune_noisymanual_clean/1cloth-openloop', '/media/ExtraDrive4/fabric_touch/datasets/finetune_noisymanual_clean/2cloth-openloop', '/media/ExtraDrive4/fabric_touch/datasets/finetune_noisymanual_clean/3cloth-openloop']\n"
     ]
    }
   ],
   "source": [
    "# reskin_dat = []\n",
    "# reskin_labelled_dat = []\n",
    "# print(dests)\n",
    "# for p in dests:\n",
    "#     for dirn in os.listdir(p):\n",
    "#         reskin_data = np.loadtxt(p+\"/\"+dirn+\"/reskin_data.csv\", delimiter=\",\")\n",
    "#         reskin_dat.append(reskin_data)\n",
    "#         reskin_data = np.loadtxt(p+\"/\"+dirn+\"/reskin_labelled_data.csv\", delimiter=\",\")\n",
    "#         reskin_labelled_dat.append(reskin_data)\n",
    "# reskin_labelled_dat = np.vstack(reskin_labelled_dat)\n",
    "# reskin_dat = np.vstack(reskin_dat)  \n",
    "# print(reskin_dat.shape, reskin_labelled_dat.shape)\n",
    "print(dests)"
   ]
  },
  {
   "cell_type": "code",
   "execution_count": 109,
   "metadata": {},
   "outputs": [
    {
     "name": "stdout",
     "output_type": "stream",
     "text": [
      "('Warn: Test Data not normalized: ', -0.019991008053497007, 1.1103769206762921)\n",
      "KNeighborsClassifier\n",
      "('balanced accuracy: ', 0.9468842328901137)\n",
      "('confusion_matrix: ', array([[8796,   47,   62],\n",
      "       [   0, 2759,    0],\n",
      "       [ 137,  402, 3125]]))\n",
      "RandomForestClassifier\n",
      "('balanced accuracy: ', 0.8694552547545479)\n",
      "('confusion_matrix: ', array([[8865,   13,   27],\n",
      "       [  95, 2663,    1],\n",
      "       [ 905,  386, 2373]]))\n",
      "SVC\n",
      "('balanced accuracy: ', 0.9260286180261158)\n",
      "('confusion_matrix: ', array([[8827,   47,   31],\n",
      "       [   0, 2759,    0],\n",
      "       [ 265,  516, 2883]]))\n",
      "LogisticRegression\n",
      "('balanced accuracy: ', 0.7359591008763865)\n",
      "('confusion_matrix: ', array([[8666,  184,   55],\n",
      "       [   0, 2759,    0],\n",
      "       [  41, 2763,  860]]))\n"
     ]
    },
    {
     "data": {
      "text/plain": [
       "((KNeighborsClassifier(algorithm='auto', leaf_size=30, metric='minkowski',\n",
       "             metric_params=None, n_jobs=None, n_neighbors=10, p=2,\n",
       "             weights='distance'),\n",
       "  RandomForestClassifier(bootstrap=True, class_weight=None, criterion='gini',\n",
       "              max_depth=None, max_features='auto', max_leaf_nodes=None,\n",
       "              min_impurity_decrease=0.0, min_impurity_split=None,\n",
       "              min_samples_leaf=1, min_samples_split=2,\n",
       "              min_weight_fraction_leaf=0.0, n_estimators=10, n_jobs=None,\n",
       "              oob_score=False, random_state=0, verbose=0, warm_start=False),\n",
       "  SVC(C=1.0, cache_size=200, class_weight=None, coef0=0.0,\n",
       "    decision_function_shape='ovr', degree=3, gamma='auto_deprecated',\n",
       "    kernel='rbf', max_iter=-1, probability=False, random_state=None,\n",
       "    shrinking=True, tol=0.001, verbose=False),\n",
       "  LogisticRegression(C=1e-07, class_weight=None, dual=False, fit_intercept=True,\n",
       "            intercept_scaling=1, max_iter=200, multi_class='warn',\n",
       "            n_jobs=None, penalty='l2', random_state=None, solver='warn',\n",
       "            tol=0.0001, verbose=0, warm_start=False)),\n",
       " StandardScaler(copy=True, with_mean=True, with_std=True))"
      ]
     },
     "execution_count": 109,
     "metadata": {},
     "output_type": "execute_result"
    }
   ],
   "source": [
    "create_clf_plot_from_dir(dests, file_name=\"/reskin_labelled_data_cmd.csv\" , randomize=False, train_percent=75)"
   ]
  },
  {
   "cell_type": "code",
   "execution_count": 103,
   "metadata": {},
   "outputs": [
    {
     "name": "stdout",
     "output_type": "stream",
     "text": [
      "(25915, 17)\n",
      "(28670, 17)\n"
     ]
    }
   ],
   "source": [
    "for p in dests:\n",
    "    if(\"1cloth\" in p):\n",
    "        label=1\n",
    "    elif(\"2cloth\" in p):\n",
    "        label=2\n",
    "    temp_data = create_label_from_command(p, label)\n",
    "    print(temp_data.shape)\n",
    "    reskin_data.append(temp_data)\n",
    "    reskin_paths.append(temp_path)\n"
   ]
  },
  {
   "cell_type": "code",
   "execution_count": null,
   "metadata": {},
   "outputs": [],
   "source": []
  },
  {
   "cell_type": "code",
   "execution_count": 3,
   "metadata": {},
   "outputs": [
    {
     "name": "stdout",
     "output_type": "stream",
     "text": [
      "('shape:', (204051, 15), (66529, 15))\n"
     ]
    },
    {
     "name": "stderr",
     "output_type": "stream",
     "text": [
      "/home/tweng/.local/lib/python2.7/site-packages/sklearn/ensemble/forest.py:246: FutureWarning: The default value of n_estimators will change from 10 in version 0.20 to 100 in 0.22.\n",
      "  \"10 in version 0.20 to 100 in 0.22.\", FutureWarning)\n",
      "/home/tweng/.local/lib/python2.7/site-packages/sklearn/svm/base.py:196: FutureWarning: The default value of gamma will change from 'auto' to 'scale' in version 0.22 to account better for unscaled features. Set gamma explicitly to 'auto' or 'scale' to avoid this warning.\n",
      "  \"avoid this warning.\", FutureWarning)\n",
      "/home/tweng/.local/lib/python2.7/site-packages/sklearn/linear_model/logistic.py:433: FutureWarning: Default solver will be changed to 'lbfgs' in 0.22. Specify a solver to silence this warning.\n",
      "  FutureWarning)\n",
      "/home/tweng/.local/lib/python2.7/site-packages/sklearn/linear_model/logistic.py:460: FutureWarning: Default multi_class will be changed to 'auto' in 0.22. Specify the multi_class option to silence this warning.\n",
      "  \"this warning.\", FutureWarning)\n"
     ]
    },
    {
     "name": "stdout",
     "output_type": "stream",
     "text": [
      "('Warn: Test Data not normalized: ', 0.020433957975300808, 0.8792407404735264)\n",
      "KNeighborsClassifier\n",
      "('balanced accuracy: ', 0.8571348779059134)\n",
      "('confusion_matrix: ', array([[25799,   613,    29,   785],\n",
      "       [   42, 13034,     0,     1],\n",
      "       [  104,     0, 12565,   804],\n",
      "       [  323,  5141,   254,  7035]]))\n",
      "RandomForestClassifier\n",
      "('balanced accuracy: ', 0.9296702036008984)\n",
      "('confusion_matrix: ', array([[25787,    97,    42,  1300],\n",
      "       [   31, 13044,     0,     2],\n",
      "       [   98,     0, 12059,  1316],\n",
      "       [  279,   955,   309, 11210]]))\n",
      "SVC\n",
      "('balanced accuracy: ', 0.9579821638602792)\n",
      "('confusion_matrix: ', array([[25853,   105,    35,  1233],\n",
      "       [   29, 13047,     0,     1],\n",
      "       [   95,     0, 12725,   653],\n",
      "       [  371,   311,    81, 11990]]))\n",
      "LogisticRegression\n",
      "('balanced accuracy: ', 0.7816437202536193)\n",
      "('confusion_matrix: ', array([[26054,    98,    90,   984],\n",
      "       [   40, 13034,     3,     0],\n",
      "       [  172,     0,  7202,  6099],\n",
      "       [  313,  2780,  1519,  8141]]))\n"
     ]
    },
    {
     "data": {
      "text/plain": [
       "((KNeighborsClassifier(algorithm='auto', leaf_size=30, metric='minkowski',\n",
       "             metric_params=None, n_jobs=None, n_neighbors=10, p=2,\n",
       "             weights='distance'),\n",
       "  RandomForestClassifier(bootstrap=True, class_weight=None, criterion='gini',\n",
       "              max_depth=None, max_features='auto', max_leaf_nodes=None,\n",
       "              min_impurity_decrease=0.0, min_impurity_split=None,\n",
       "              min_samples_leaf=1, min_samples_split=2,\n",
       "              min_weight_fraction_leaf=0.0, n_estimators=10, n_jobs=None,\n",
       "              oob_score=False, random_state=0, verbose=0, warm_start=False),\n",
       "  SVC(C=1.0, cache_size=200, class_weight=None, coef0=0.0,\n",
       "    decision_function_shape='ovr', degree=3, gamma='auto_deprecated',\n",
       "    kernel='rbf', max_iter=-1, probability=False, random_state=None,\n",
       "    shrinking=True, tol=0.001, verbose=False),\n",
       "  LogisticRegression(C=1.0, class_weight=None, dual=False, fit_intercept=True,\n",
       "            intercept_scaling=1, max_iter=200, multi_class='warn',\n",
       "            n_jobs=None, penalty='l2', random_state=None, solver='warn',\n",
       "            tol=0.0001, verbose=0, warm_start=False)),\n",
       " StandardScaler(copy=True, with_mean=True, with_std=True),\n",
       " 0.7816437202536193)"
      ]
     },
     "execution_count": 3,
     "metadata": {},
     "output_type": "execute_result"
    }
   ],
   "source": [
    "\n",
    "create_clf_plot_from_dir(ps, file_name=\"/reskin_data.csv\" , randomize=False, train_percent=75)"
   ]
  },
  {
   "cell_type": "code",
   "execution_count": 121,
   "metadata": {},
   "outputs": [
    {
     "name": "stdout",
     "output_type": "stream",
     "text": [
      "KNeighborsClassifier\n",
      "('balanced accuracy: ', 0.9089255744466533)\n",
      "('confusion_matrix: ', array([[6350,    2,   28,   42],\n",
      "       [   5, 1923,    0,    0],\n",
      "       [   0,    0, 1828,    0],\n",
      "       [ 123,  196,  321, 1186]]))\n",
      "RandomForestClassifier\n",
      "('balanced accuracy: ', 0.8901887658154706)\n",
      "('confusion_matrix: ', array([[6389,    2,   11,   20],\n",
      "       [   6, 1922,    0,    0],\n",
      "       [   3,    0, 1824,    1],\n",
      "       [ 597,  130,   56, 1043]]))\n",
      "SVC\n",
      "('balanced accuracy: ', 0.9259718657005673)\n",
      "('confusion_matrix: ', array([[6359,    5,   28,   30],\n",
      "       [   4, 1924,    0,    0],\n",
      "       [   0,    0, 1828,    0],\n",
      "       [ 124,   89,  306, 1307]]))\n",
      "LogisticRegression\n",
      "('balanced accuracy: ', 0.7054346658395982)\n",
      "('confusion_matrix: ', array([[6290,   53,   66,   13],\n",
      "       [  33, 1895,    0,    0],\n",
      "       [   0,  257, 1571,    0],\n",
      "       [   0, 1721,  105,    0]]))\n"
     ]
    },
    {
     "data": {
      "text/plain": [
       "((KNeighborsClassifier(algorithm='auto', leaf_size=30, metric='minkowski',\n",
       "             metric_params=None, n_jobs=None, n_neighbors=10, p=2,\n",
       "             weights='distance'),\n",
       "  RandomForestClassifier(bootstrap=True, class_weight=None, criterion='gini',\n",
       "              max_depth=None, max_features='auto', max_leaf_nodes=None,\n",
       "              min_impurity_decrease=0.0, min_impurity_split=None,\n",
       "              min_samples_leaf=1, min_samples_split=2,\n",
       "              min_weight_fraction_leaf=0.0, n_estimators=10, n_jobs=None,\n",
       "              oob_score=False, random_state=0, verbose=0, warm_start=False),\n",
       "  SVC(C=1.0, cache_size=200, class_weight=None, coef0=0.0,\n",
       "    decision_function_shape='ovr', degree=3, gamma='auto_deprecated',\n",
       "    kernel='rbf', max_iter=-1, probability=False, random_state=None,\n",
       "    shrinking=True, tol=0.001, verbose=False),\n",
       "  LogisticRegression(C=1e-07, class_weight=None, dual=False, fit_intercept=True,\n",
       "            intercept_scaling=1, max_iter=200, multi_class='warn',\n",
       "            n_jobs=None, penalty='l2', random_state=None, solver='warn',\n",
       "            tol=0.0001, verbose=0, warm_start=False)),\n",
       " StandardScaler(copy=True, with_mean=True, with_std=True))"
      ]
     },
     "execution_count": 121,
     "metadata": {},
     "output_type": "execute_result"
    }
   ],
   "source": [
    "p1 = \"/media/ExtraDrive3/fabric_touch/bagfiles/angled_feb25_1/0cloth_norub_auto_robot\"\n",
    "final = [p1]+dests\n",
    "create_clf_plot_from_dir(final, file_name=\"/reskin_data.csv\" , randomize=False, train_percent=90)\n"
   ]
  },
  {
   "cell_type": "code",
   "execution_count": 1,
   "metadata": {},
   "outputs": [
    {
     "ename": "NameError",
     "evalue": "name 'dests' is not defined",
     "output_type": "error",
     "traceback": [
      "\u001b[0;31m---------------------------------------------------------------------------\u001b[0m",
      "\u001b[0;31mNameError\u001b[0m                                 Traceback (most recent call last)",
      "\u001b[0;32m<ipython-input-1-fe711c8db03b>\u001b[0m in \u001b[0;36m<module>\u001b[0;34m()\u001b[0m\n\u001b[1;32m      1\u001b[0m \u001b[0mp1\u001b[0m \u001b[0;34m=\u001b[0m \u001b[0;34m\"/media/ExtraDrive3/fabric_touch/bagfiles/angled_feb25_edgeonly/0cloth_norub_auto_robot\"\u001b[0m\u001b[0;34m\u001b[0m\u001b[0m\n\u001b[1;32m      2\u001b[0m \u001b[0mps\u001b[0m\u001b[0;34m=\u001b[0m \u001b[0;34m[\u001b[0m\u001b[0mp1\u001b[0m\u001b[0;34m]\u001b[0m\u001b[0;34m\u001b[0m\u001b[0m\n\u001b[0;32m----> 3\u001b[0;31m \u001b[0mfinal\u001b[0m \u001b[0;34m=\u001b[0m \u001b[0mps\u001b[0m\u001b[0;34m+\u001b[0m\u001b[0mdests\u001b[0m\u001b[0;34m\u001b[0m\u001b[0m\n\u001b[0m\u001b[1;32m      4\u001b[0m \u001b[0mclfs\u001b[0m\u001b[0;34m,\u001b[0m \u001b[0mscaler\u001b[0m \u001b[0;34m=\u001b[0m \u001b[0mcreate_clf_plot_from_dir\u001b[0m\u001b[0;34m(\u001b[0m\u001b[0mfinal\u001b[0m\u001b[0;34m,\u001b[0m \u001b[0mfile_name\u001b[0m\u001b[0;34m=\u001b[0m\u001b[0;34m\"/reskin_data.csv\"\u001b[0m \u001b[0;34m,\u001b[0m \u001b[0mrandomize\u001b[0m\u001b[0;34m=\u001b[0m\u001b[0mFalse\u001b[0m\u001b[0;34m,\u001b[0m \u001b[0mtrain_percent\u001b[0m\u001b[0;34m=\u001b[0m\u001b[0;36m75\u001b[0m\u001b[0;34m)\u001b[0m\u001b[0;34m\u001b[0m\u001b[0m\n\u001b[1;32m      5\u001b[0m \u001b[0;32mfrom\u001b[0m \u001b[0mjoblib\u001b[0m \u001b[0;32mimport\u001b[0m \u001b[0mdump\u001b[0m\u001b[0;34m,\u001b[0m \u001b[0mload\u001b[0m\u001b[0;34m\u001b[0m\u001b[0m\n",
      "\u001b[0;31mNameError\u001b[0m: name 'dests' is not defined"
     ]
    }
   ],
   "source": [
    "p1 = \"/media/ExtraDrive3/fabric_touch/bagfiles/angled_feb25_edgeonly/0cloth_norub_auto_robot\"\n",
    "ps= [p1]\n",
    "final = ps+dests\n",
    "clfs, scaler = create_clf_plot_from_dir(final, file_name=\"/reskin_data.csv\" , randomize=False, train_percent=75)\n",
    "from joblib import dump, load\n",
    "dir_name = \"/media/ExtraDrive3/fabric_touch/classifiers/4classes_openloop_75percent\"\n",
    "clf_names = [\"knn\", \"rf\", \"svc\", \"lr\"]\n",
    "for i in range(len(clf_names)):\n",
    "    dir_path = dir_name+\"_\"+clf_names[i]\n",
    "    if not os.path.isdir(dir_path):\n",
    "        os.mkdir(dir_path)\n",
    "    dump(clfs[i], dir_path+\"/classifier.joblib\")\n",
    "    dump(scaler, dir_path+\"/scaler.joblib\")"
   ]
  },
  {
   "cell_type": "code",
   "execution_count": 11,
   "metadata": {},
   "outputs": [],
   "source": [
    "import shutil\n",
    "import numpy as np\n",
    "import rosbag\n",
    "from cv_bridge import CvBridge\n",
    "import cv2 \n",
    "p1 = \"/media/ExtraDrive3/fabric_touch/bagfiles/angled_feb25_edgeonly/0cloth_norub_auto_robot\"\n",
    "p2 = \"/media/ExtraDrive3/fabric_touch/bagfiles/angled_feb25_edgeonly/1cloth_norub_auto_robot\"\n",
    "p3 = \"/media/ExtraDrive3/fabric_touch/bagfiles/angled_feb25_edgeonly/2cloth_norub_auto_robot\" \n",
    "p4 = \"/media/ExtraDrive4/fabric_touch/datasets/5class_knn_1_layer_clean/0cloth\"\n",
    "p5 = \"/media/ExtraDrive4/fabric_touch/datasets/5class_knn_1_layer_clean/1cloth\"\n",
    "p6 = \"/media/ExtraDrive4/fabric_touch/datasets/5class_knn_1_layer_clean/2cloth\"\n",
    "p7 = \"/media/ExtraDrive4/fabric_touch/datasets/5class_knn_2layer_clean/0cloth\"\n",
    "p8 = \"/media/ExtraDrive4/fabric_touch/datasets/5class_knn_2layer_clean/1cloth\"\n",
    "p9 = \"/media/ExtraDrive4/fabric_touch/datasets/5class_knn_2layer_clean/2cloth\" \n",
    "p10 = \"/media/ExtraDrive4/fabric_touch/datasets/5class_knn_2layer_clean/3cloth\" \n",
    "# p8 = \"/media/ExtraDrive3/fabric_touch/bagfiles/angled_feb25_edgeonly/0cloth_norub_auto_robot\"\n",
    "\n",
    "\n",
    "ps=[p4,p5,p6,p7,p8,p9,p10,p1,p2,p3]\n",
    "def get_label_from_command(bagfilepath, label):\n",
    "    bag = rosbag.Bag(bagfilepath)\n",
    "    bridge = CvBridge()\n",
    "    topics = ['/reskin', '/classifier_commands']\n",
    "    predicting = False\n",
    "    count = 0\n",
    "    res = []\n",
    "    for topic, msg, t in bag.read_messages(topics=topics):\n",
    "        if topic == '/classifier_commands':\n",
    "            if msg.data == 'start':\n",
    "                predicting = True\n",
    "            elif msg.data == 'end':\n",
    "                predicting = False\n",
    "        if topic == '/reskin':\n",
    "            if(predicting):\n",
    "                data = np.array(msg.data) # 5 x (T x y z)\n",
    "                magns = np.array([\n",
    "                    data[1], data[2], data[3],\n",
    "                    data[5], data[6], data[7],\n",
    "                    data[9], data[10], data[11],\n",
    "                    data[13], data[14], data[15],\n",
    "                    data[17], data[18], data[19],label,int(str(t))\n",
    "                ])\n",
    "                \n",
    "                res.append(magns)\n",
    "    res = np.vstack(res)\n",
    "    return res\n",
    "\n",
    "def create_label_from_command(folder_name, label):\n",
    "    datas=[]\n",
    "    for dirn in os.listdir(folder_name):\n",
    "        bagpath = folder_name+\"/\"+dirn+\"/data.bag\"\n",
    "        labelled_reskin_data = get_label_from_command(bagpath, label)\n",
    "        np.savetxt(folder_name+\"/\"+dirn+\"/reskin_data_cmd.csv\", labelled_reskin_data, delimiter=\",\")\n",
    "        datas.append(labelled_reskin_data)\n",
    "    datas = np.vstack(datas)\n",
    "    return datas\n",
    "\n",
    "for p in ps:\n",
    "    if(\"0cloth\" in p):\n",
    "        label=1\n",
    "    if(\"1cloth\" in p):\n",
    "        label=2\n",
    "    elif(\"2cloth\" in p):\n",
    "        label=3\n",
    "    elif(\"3cloth\" in p):\n",
    "        label=4\n",
    "    temp_data = create_label_from_command(p, label)"
   ]
  },
  {
   "cell_type": "code",
   "execution_count": 15,
   "metadata": {},
   "outputs": [
    {
     "name": "stdout",
     "output_type": "stream",
     "text": [
      "KNeighborsClassifier\n",
      "('balanced accuracy: ', 0.8315445271544987)\n",
      "('confusion_matrix: ', array([[4145,    0,  160,    1],\n",
      "       [ 160, 6306,   22,  102],\n",
      "       [ 848,  375, 2712,  204],\n",
      "       [   1,    0,  346, 1049]]))\n",
      "RandomForestClassifier\n",
      "('balanced accuracy: ', 0.8446078742660474)\n",
      "('confusion_matrix: ', array([[4253,    4,   49,    0],\n",
      "       [  96, 6284,  210,    0],\n",
      "       [ 218,  400, 3369,  152],\n",
      "       [   0,  207,  319,  870]]))\n",
      "SVC\n",
      "('balanced accuracy: ', 0.8846238046990066)\n",
      "('confusion_matrix: ', array([[4165,    0,  141,    0],\n",
      "       [  89, 6342,  138,   21],\n",
      "       [   8,  421, 3122,  588],\n",
      "       [   0,    3,  200, 1193]]))\n",
      "LogisticRegression\n",
      "('balanced accuracy: ', 0.8062063722507378)\n",
      "('confusion_matrix: ', array([[4198,    3,  105,    0],\n",
      "       [  29, 5842,  666,   53],\n",
      "       [  69,  327, 2616, 1127],\n",
      "       [   0,  180,  195, 1021]]))\n"
     ]
    }
   ],
   "source": [
    "ps=[p4,p5,p6,p7,p8,p9,p10,p1,p2,p3]\n",
    "clfs, scaler = create_clf_plot_from_dir(ps, file_name=\"/reskin_data_cmd.csv\" , randomize=False, train_percent=75)\n",
    "from joblib import dump, load\n",
    "dir_name = \"/media/ExtraDrive3/fabric_touch/classifiers/4classes_5knn1and2_edgeonly_all_75percent\"\n",
    "clf_names = [\"knn\", \"rf\", \"svc\", \"lr\"]\n",
    "for i in range(len(clf_names)):\n",
    "    dir_path = dir_name+\"_\"+clf_names[i]\n",
    "    if not os.path.isdir(dir_path):\n",
    "        os.mkdir(dir_path)\n",
    "    dump(clfs[i], dir_path+\"/classifier.joblib\")\n",
    "    dump(scaler, dir_path+\"/scaler.joblib\")"
   ]
  },
  {
   "cell_type": "code",
   "execution_count": 16,
   "metadata": {},
   "outputs": [
    {
     "name": "stdout",
     "output_type": "stream",
     "text": [
      "KNeighborsClassifier\n",
      "('balanced accuracy: ', 0.9034458925209559)\n",
      "('confusion_matrix: ', array([[1251,    0,  157,    0],\n",
      "       [  17, 1735,    1,    0],\n",
      "       [ 137,  138,  904,   50],\n",
      "       [   0,    0,    0,  350]]))\n",
      "RandomForestClassifier\n",
      "('balanced accuracy: ', 0.9491713083483221)\n",
      "('confusion_matrix: ', array([[1359,    0,   49,    0],\n",
      "       [   0, 1750,    3,    0],\n",
      "       [  25,  178, 1024,    2],\n",
      "       [   0,    0,    0,  350]]))\n",
      "SVC\n",
      "('balanced accuracy: ', 0.9379158442942666)\n",
      "('confusion_matrix: ', array([[1275,    1,  132,    0],\n",
      "       [   8, 1740,    5,    0],\n",
      "       [   3,  175, 1049,    2],\n",
      "       [   0,    0,    0,  350]]))\n",
      "LogisticRegression\n",
      "('balanced accuracy: ', 0.919470003295551)\n",
      "('confusion_matrix: ', array([[1385,    1,   22,    0],\n",
      "       [   1, 1652,   96,    4],\n",
      "       [  11,  174,  924,  120],\n",
      "       [   0,    0,    0,  350]]))\n"
     ]
    }
   ],
   "source": [
    "ps=[p4,p5,p6,p7,p8,p9,p10,p1,p2,p3]\n",
    "\n",
    "clfs, scaler = create_clf_plot_from_dir(ps, file_name=\"/reskin_data_cmd.csv\" , randomize=False, train_percent=95)\n",
    "from joblib import dump, load\n",
    "dir_name = \"/media/ExtraDrive3/fabric_touch/classifiers/4classes_5knn1and2_edgeonly_all_95percent\"\n",
    "clf_names = [\"knn\", \"rf\", \"svc\", \"lr\"]\n",
    "for i in range(len(clf_names)):\n",
    "    dir_path = dir_name+\"_\"+clf_names[i]\n",
    "    if not os.path.isdir(dir_path):\n",
    "        os.mkdir(dir_path)\n",
    "    dump(clfs[i], dir_path+\"/classifier.joblib\")\n",
    "    dump(scaler, dir_path+\"/scaler.joblib\")"
   ]
  },
  {
   "cell_type": "code",
   "execution_count": null,
   "metadata": {},
   "outputs": [],
   "source": [
    "clfs, scaler = create_clf_plot_from_dir(ps, file_name=\"/reskin_data_cmd.csv\" , randomize=False, train_percent=95)\n",
    "from joblib import dump, load\n",
    "dir_name = \"/media/ExtraDrive3/fabric_touch/classifiers/5classes_openloop_95percent_Sun1247pm\"\n",
    "clf_names = [\"knn\", \"rf\", \"svc\", \"lr\"]\n",
    "for i in range(len(clf_names)):\n",
    "    dir_path = dir_name+\"_\"+clf_names[i]\n",
    "    if not os.path.isdir(dir_path):\n",
    "        os.mkdir(dir_path)\n",
    "    dump(clfs[i], dir_path+\"/classifier.joblib\")\n",
    "    dump(scaler, dir_path+\"/scaler.joblib\")"
   ]
  },
  {
   "cell_type": "code",
   "execution_count": 20,
   "metadata": {},
   "outputs": [
    {
     "name": "stdout",
     "output_type": "stream",
     "text": [
      "('shape:', (14590, 15), (4248, 15))\n",
      "('Warn: Test Data not normalized: ', 0.01379897507253546, 1.1081006045496555)\n",
      "KNeighborsClassifier\n",
      "('balanced accuracy: ', 0.9169776119402985)\n",
      "('confusion_matrix: ', array([[2643,    0,    0,    0],\n",
      "       [   0,  534,    0,    0],\n",
      "       [   0,    0,  535,    0],\n",
      "       [   0,  178,    0,  358]]))\n",
      "RandomForestClassifier\n",
      "('balanced accuracy: ', 1.0)\n",
      "('confusion_matrix: ', array([[2643,    0,    0,    0],\n",
      "       [   0,  534,    0,    0],\n",
      "       [   0,    0,  535,    0],\n",
      "       [   0,    0,    0,  536]]))\n",
      "SVC\n",
      "('balanced accuracy: ', 1.0)\n",
      "('confusion_matrix: ', array([[2643,    0,    0,    0],\n",
      "       [   0,  534,    0,    0],\n",
      "       [   0,    0,  535,    0],\n",
      "       [   0,    0,    0,  536]]))\n",
      "LogisticRegression\n",
      "('balanced accuracy: ', 0.9855392978925597)\n",
      "('confusion_matrix: ', array([[2643,    0,    0,    0],\n",
      "       [   0,  533,    1,    0],\n",
      "       [   0,    0,  535,    0],\n",
      "       [   0,   30,    0,  506]]))\n"
     ]
    }
   ],
   "source": [
    "p1= \"/media/ExtraDrive4/fabric_touch/datasets/finetune_noisymanual_clean/1cloth-openloop\"\n",
    "p2 = \"/media/ExtraDrive4/fabric_touch/datasets/finetune_noisymanual_clean/2cloth-openloop\"\n",
    "p3 = \"/media/ExtraDrive4/fabric_touch/datasets/finetune_noisymanual_clean/3cloth-openloop\"\n",
    "p4 = \"/media/ExtraDrive3/fabric_touch/bagfiles/angled_feb25_edgeonly/0cloth_norub_auto_robot\"\n",
    "ps = [p1,p2,p3,p4]\n",
    "\n",
    "clfs, scaler = create_clf_plot_from_dir(ps, file_name=\"/reskin_data_cmd.csv\" , randomize=True, train_percent=80)"
   ]
  },
  {
   "cell_type": "code",
   "execution_count": 10,
   "metadata": {},
   "outputs": [
    {
     "name": "stdout",
     "output_type": "stream",
     "text": [
      "('shape:', (79942, 15), (23535, 15))\n",
      "KNeighborsClassifier\n",
      "('balanced accuracy: ', 0.7779841125319671)\n",
      "('confusion_matrix: ', array([[12814,     3,    45,    27,   103],\n",
      "       [    8,  2301,     0,     0,     0],\n",
      "       [    0,     0,  2341,     0,   431],\n",
      "       [ 1036,     0,     0,  1536,   161],\n",
      "       [  145,    12,   902,   304,  1366]]))\n",
      "RandomForestClassifier\n",
      "('balanced accuracy: ', 0.8041090207252752)\n",
      "('confusion_matrix: ', array([[12904,     1,    11,    28,    48],\n",
      "       [    8,  2300,     0,     1,     0],\n",
      "       [   21,     0,  2584,     0,   167],\n",
      "       [ 1421,     7,     0,  1180,   125],\n",
      "       [  129,     1,   482,   296,  1821]]))\n",
      "SVC\n",
      "('balanced accuracy: ', 0.7677817590554048)\n",
      "('confusion_matrix: ', array([[12728,     5,    35,    26,   198],\n",
      "       [    8,  2301,     0,     0,     0],\n",
      "       [    4,     0,  2363,     3,   402],\n",
      "       [ 1330,     0,     0,  1403,     0],\n",
      "       [   53,     0,   908,   412,  1356]]))\n",
      "LogisticRegression\n",
      "('balanced accuracy: ', 0.8257845572665339)\n",
      "('confusion_matrix: ', array([[12793,     3,    77,    66,    53],\n",
      "       [   25,  2279,     0,     5,     0],\n",
      "       [    0,     0,  2738,     5,    29],\n",
      "       [  751,     1,   312,  1667,     2],\n",
      "       [    0,     0,   784,   418,  1527]]))\n"
     ]
    }
   ],
   "source": [
    "p1= \"/media/ExtraDrive4/fabric_touch/datasets/finetune_noisymanual_clean/1cloth-openloop\"\n",
    "p2 = \"/media/ExtraDrive4/fabric_touch/datasets/finetune_noisymanual_clean/2cloth-openloop\"\n",
    "p3 = \"/media/ExtraDrive4/fabric_touch/datasets/finetune_noisymanual_clean/3cloth-openloop\"\n",
    "p4 = \"/media/ExtraDrive3/fabric_touch/bagfiles/angled_feb25_edgeonly/0cloth_norub_auto_robot\"\n",
    "ps = [p1,p2,p3,p4]\n",
    "clfs, scaler = create_clf_plot_from_dir(ps, file_name=\"/reskin_data.csv\" , randomize=True, train_percent=80)"
   ]
  },
  {
   "cell_type": "code",
   "execution_count": 9,
   "metadata": {},
   "outputs": [
    {
     "name": "stderr",
     "output_type": "stream",
     "text": [
      "/home/tweng/.local/lib/python2.7/site-packages/ipykernel_launcher.py:12: DataConversionWarning: A column-vector y was passed when a 1d array was expected. Please change the shape of y to (n_samples, ), for example using ravel().\n",
      "  if sys.path[0] == '':\n",
      "/home/tweng/.local/lib/python2.7/site-packages/ipykernel_launcher.py:14: DataConversionWarning: A column-vector y was passed when a 1d array was expected. Please change the shape of y to (n_samples, ), for example using ravel().\n",
      "  \n",
      "/home/tweng/.local/lib/python2.7/site-packages/ipykernel_launcher.py:16: DataConversionWarning: A column-vector y was passed when a 1d array was expected. Please change the shape of y to (n_samples, ), for example using ravel().\n",
      "  app.launch_new_instance()\n",
      "/home/tweng/.local/lib/python2.7/site-packages/ipykernel_launcher.py:18: DataConversionWarning: A column-vector y was passed when a 1d array was expected. Please change the shape of y to (n_samples, ), for example using ravel().\n"
     ]
    },
    {
     "name": "stdout",
     "output_type": "stream",
     "text": [
      "('Warn: Test Data not normalized: ', 0.020433957975300808, 0.8792407404735264)\n",
      "KNeighborsClassifier\n",
      "('balanced accuracy: ', 0.8638447856225785)\n",
      "('confusion_matrix: ', array([[25660,   570,    56,   940],\n",
      "       [   33, 13039,     0,     5],\n",
      "       [  113,     0, 12574,   786],\n",
      "       [  396,  4606,   322,  7429]]))\n",
      "KNeighborsClassifier\n",
      "('balanced accuracy: ', 0.8571348779059134)\n",
      "('confusion_matrix: ', array([[25799,   613,    29,   785],\n",
      "       [   42, 13034,     0,     1],\n",
      "       [  104,     0, 12565,   804],\n",
      "       [  323,  5141,   254,  7035]]))\n",
      "KNeighborsClassifier\n",
      "('balanced accuracy: ', 0.8375221834495572)\n",
      "('confusion_matrix: ', array([[25814,   790,    35,   587],\n",
      "       [   44, 13033,     0,     0],\n",
      "       [  145,     0, 12444,   884],\n",
      "       [  172,  6168,   270,  6143]]))\n",
      "KNeighborsClassifier\n",
      "('balanced accuracy: ', 0.8309998490438847)\n",
      "('confusion_matrix: ', array([[25805,   877,    35,   509],\n",
      "       [   44, 13032,     0,     1],\n",
      "       [  160,     0, 12379,   934],\n",
      "       [  156,  6441,   279,  5877]]))\n"
     ]
    },
    {
     "data": {
      "text/plain": [
       "(array([0., 0., 0., ..., 0., 0., 0.]), 0.8309998490438847)"
      ]
     },
     "execution_count": 9,
     "metadata": {},
     "output_type": "execute_result"
    }
   ],
   "source": [
    "p1 = \"/media/ExtraDrive3/fabric_touch/bagfiles/angled_feb25_all/0cloth_norub_auto_robot\"\n",
    "p2 = \"/media/ExtraDrive3/fabric_touch/bagfiles/angled_feb25_all/1cloth_norub_auto_robot\"\n",
    "p3 = \"/media/ExtraDrive3/fabric_touch/bagfiles/angled_feb25_all/2cloth_norub_auto_robot\"\n",
    "ps= [p1,p2,p3]\n",
    "cloth_dir_names = get_cloth_dir_names(ps)\n",
    "cloth_datas = create_cloth_datas_each_trial(cloth_dir_names, csv_name = \"/reskin_data.csv\")\n",
    "X,Y,x,y = create_train_test_data(cloth_datas, 75, False)\n",
    "_,scaler = normalize_data(np.vstack([X,x]))\n",
    "X = scaler.transform(X)\n",
    "x = scaler.transform(x)\n",
    "clf1 = neighbors.KNeighborsClassifier(1, weights=\"distance\")\n",
    "clf1.fit(X,Y)\n",
    "clf2 = neighbors.KNeighborsClassifier(10, weights=\"distance\")\n",
    "clf2.fit(X,Y)\n",
    "clf3 = neighbors.KNeighborsClassifier(60, weights=\"distance\")\n",
    "clf3.fit(X,Y)\n",
    "clf4 = neighbors.KNeighborsClassifier(100, weights=\"distance\")\n",
    "clf4.fit(X,Y)\n",
    "\n",
    "test_classifier([clf1, clf2, clf3, clf4], scaler, x, y)"
   ]
  },
  {
   "cell_type": "markdown",
   "metadata": {},
   "source": [
    "###### p1 = \"/media/ExtraDrive3/fabric_touch/bagfiles/angled_feb25_all/0cloth_norub_auto_robot\"\n",
    "p2 = \"/media/ExtraDrive3/fabric_touch/bagfiles/angled_feb25_all/1cloth_norub_auto_robot\"\n",
    "p3 = \"/media/ExtraDrive3/fabric_touch/bagfiles/angled_feb25_all/2cloth_norub_auto_robot\"\n",
    "ps= [p1,p2,p3]\n",
    "cloth_dir_names = get_cloth_dir_names(ps)\n",
    "cloth_datas = create_cloth_datas_each_trial(cloth_dir_names, csv_name = \"/reskin_data.csv\")\n",
    "X,Y,x,y = create_train_test_data(cloth_datas, 75, False)\n",
    "_,scaler = normalize_data(np.vstack([X,x]))\n",
    "X = scaler.transform(X)\n",
    "x = scaler.transform(x)\n",
    "clf1 = neighbors.KNeighborsClassifier(1, weights=\"distance\")\n",
    "clf1.fit(X,Y.ravel())\n",
    "clf2 = neighbors.KNeighborsClassifier(10, weights=\"distance\")\n",
    "clf2.fit(X,Y.ravel())\n",
    "clf3 = neighbors.KNeighborsClassifier(60, weights=\"distance\")\n",
    "clf3.fit(X,Y.ravel())\n",
    "clf4 = neighbors.KNeighborsClassifier(100, weights=\"distance\")\n",
    "clf4.fit(X,Y.ravel())\n",
    "rf_clf = ensemble.RandomForestClassifier(max_depth=None, random_state=0)\n",
    "svm_clf = svm.SVC(kernel='rbf')\n",
    "lm_clf = linear_model.LogisticRegression(penalty='l2', max_iter=200)\n",
    "test_classifier([clf1, clf2, clf3, clf4], scaler, x, y)"
   ]
  },
  {
   "cell_type": "code",
   "execution_count": null,
   "metadata": {},
   "outputs": [],
   "source": [
    "p1 = \"/media/ExtraDrive3/fabric_touch/bagfiles/angled_feb25_all/0cloth_norub_auto_robot\"\n",
    "p2 = \"/media/ExtraDrive3/fabric_touch/bagfiles/angled_feb25_all/1cloth_norub_auto_robot\"\n",
    "p3 = \"/media/ExtraDrive3/fabric_touch/bagfiles/angled_feb25_all/2cloth_norub_auto_robot\"\n",
    "ps= [p1,p2,p3]\n",
    "cloth_dir_names = get_cloth_dir_names(ps)\n",
    "cloth_datas = create_cloth_datas_each_trial(cloth_dir_names, csv_name = \"/reskin_data.csv\")\n",
    "X,Y,x,y = create_train_test_data(cloth_datas, 75, False)\n",
    "_,scaler = normalize_data(np.vstack([X,x]))\n",
    "X = scaler.transform(X)\n",
    "x = scaler.transform(x)\n",
    "clf1 = svm.SVC(kernel='rbf', C=1.0)\n",
    "clf1.fit(X,Y)\n",
    "clf2 = svm.SVC(kernel='rbf', C=10.0)\n",
    "clf2.fit(X,Y)\n",
    "clf3 = svm.SVC(kernel='linear', C=1.0)\n",
    "clf3.fit(X,Y)\n",
    "clf4 = svm.SVC(kernel='linear', C=10.0)\n",
    "clf4.fit(X,Y)\n",
    "\n",
    "test_classifier([clf1, clf2, clf3, clf4], scaler, x, y)"
   ]
  },
  {
   "cell_type": "code",
   "execution_count": null,
   "metadata": {},
   "outputs": [
    {
     "name": "stderr",
     "output_type": "stream",
     "text": [
      "/home/tweng/.local/lib/python2.7/site-packages/sklearn/utils/validation.py:761: DataConversionWarning: A column-vector y was passed when a 1d array was expected. Please change the shape of y to (n_samples, ), for example using ravel().\n",
      "  y = column_or_1d(y, warn=True)\n",
      "/home/tweng/.local/lib/python2.7/site-packages/sklearn/svm/base.py:196: FutureWarning: The default value of gamma will change from 'auto' to 'scale' in version 0.22 to account better for unscaled features. Set gamma explicitly to 'auto' or 'scale' to avoid this warning.\n",
      "  \"avoid this warning.\", FutureWarning)\n"
     ]
    }
   ],
   "source": [
    "p1 = \"/media/ExtraDrive3/fabric_touch/bagfiles/angled_feb25_all/0cloth_norub_auto_robot\"\n",
    "p2 = \"/media/ExtraDrive3/fabric_touch/bagfiles/angled_feb25_all/1cloth_norub_auto_robot\"\n",
    "p3 = \"/media/ExtraDrive3/fabric_touch/bagfiles/angled_feb25_all/2cloth_norub_auto_robot\"\n",
    "ps= [p1,p2,p3]\n",
    "cloth_dir_names = get_cloth_dir_names(ps)\n",
    "cloth_datas = create_cloth_datas_each_trial(cloth_dir_names, csv_name = \"/reskin_data.csv\")\n",
    "X,Y,x,y = create_train_test_data(cloth_datas, 75, False)\n",
    "_,scaler = normalize_data(np.vstack([X,x]))\n",
    "X = scaler.transform(X)\n",
    "x = scaler.transform(x)\n",
    "clf1 = svm.SVC(kernel='rbf', C=1.0)\n",
    "clf1.fit(X,Y.ravel())\n",
    "clf2 = svm.SVC(kernel='rbf', C=0.5)\n",
    "clf2.fit(X,Y.ravel())\n",
    "clf3 = svm.SVC(kernel='linear', C=1.0)\n",
    "clf3.fit(X,Y.ravel())\n",
    "clf4 = svm.SVC(kernel='linear', C=0.5)\n",
    "clf4.fit(X,Y.ravel())\n",
    "\n",
    "test_classifier([clf1, clf2, clf3, clf4], scaler, x, y)"
   ]
  },
  {
   "cell_type": "code",
   "execution_count": null,
   "metadata": {},
   "outputs": [],
   "source": []
  }
 ],
 "metadata": {
  "kernelspec": {
   "display_name": "Python 2",
   "language": "python",
   "name": "python2"
  },
  "language_info": {
   "codemirror_mode": {
    "name": "ipython",
    "version": 2
   },
   "file_extension": ".py",
   "mimetype": "text/x-python",
   "name": "python",
   "nbconvert_exporter": "python",
   "pygments_lexer": "ipython2",
   "version": "2.7.17"
  }
 },
 "nbformat": 4,
 "nbformat_minor": 2
}
