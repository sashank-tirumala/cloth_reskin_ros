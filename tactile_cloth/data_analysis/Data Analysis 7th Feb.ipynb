{
 "cells": [
  {
   "cell_type": "code",
   "execution_count": 13,
   "metadata": {},
   "outputs": [
    {
     "data": {
      "text/plain": [
       "'0.24.1'"
      ]
     },
     "execution_count": 13,
     "metadata": {},
     "output_type": "execute_result"
    }
   ],
   "source": [
    "import numpy as np\n",
    "import csv\n",
    "import matplotlib.pyplot as plt\n",
    "import os\n",
    "from sklearn import preprocessing\n",
    "from sklearn.model_selection import train_test_split\n",
    "from sklearn import neighbors\n",
    "import sklearn\n",
    "sklearn.__version__"
   ]
  },
  {
   "cell_type": "code",
   "execution_count": 2,
   "metadata": {},
   "outputs": [],
   "source": [
    "classification_folder = \"/home/sashank/catkin_ws/src/tactilecloth/classification_data/\"\n",
    "folders=[\"0cloth_7feb\", \"1cloth_7feb\", \"2cloth_7feb\"]\n"
   ]
  },
  {
   "cell_type": "code",
   "execution_count": 11,
   "metadata": {},
   "outputs": [
    {
     "name": "stdout",
     "output_type": "stream",
     "text": [
      "done:  0\n",
      "done:  1\n",
      "done:  2\n",
      "done:  3\n",
      "done:  4\n",
      "done:  5\n",
      "done:  6\n",
      "done:  7\n",
      "done:  8\n",
      "done:  9\n",
      "done:  10\n",
      "done:  11\n",
      "done:  12\n",
      "done:  13\n",
      "done:  14\n"
     ]
    }
   ],
   "source": [
    "# for i in range(15):\n",
    "#     csv_path = classification_folder + folders[2]+\"/\"+str(i+1)+\"/\"+str(i+1)+\"_reskin_data.csv\"\n",
    "#     darr = np.loadtxt(csv_path, delimiter= \",\")\n",
    "#     for j in range(darr.shape[0]):\n",
    "#         if(darr[j][-2] == 2):\n",
    "#             darr[j][-2] = 3\n",
    "#         pass\n",
    "#     np.savetxt(csv_path,darr, delimiter=\",\")\n",
    "#     print(\"done: \",i)\n",
    "#     pass\n"
   ]
  },
  {
   "cell_type": "code",
   "execution_count": 3,
   "metadata": {},
   "outputs": [],
   "source": [
    "classification_folder = \"/home/sashank/catkin_ws/src/tactilecloth/classification_data\"\n",
    "folders = [\"0cloth_7feb\",\"1cloth_7feb\", \"2cloth_7feb\"]\n",
    "num_data = 10\n",
    "train_data = []\n",
    "test_data_set = [11,12,13,14,15]\n",
    "for fn in folders:\n",
    "    for i in range(num_data):\n",
    "        name = classification_folder+\"/\"+fn+\"/\"+str(i+1)+\"/\"+str(i+1)+\"_reskin_data.csv\"\n",
    "        marker_name = classification_folder+\"/\"+fn+\"/\"+str(i+1)+\"/\"+str(i+1)+\"_markers.csv\"\n",
    "        nparr = np.loadtxt(name, delimiter=\",\")\n",
    "        markerarr = np.loadtxt(marker_name, delimiter=\",\")\n",
    "        train_data.append(nparr)\n",
    "train_data = np.vstack(train_data)\n",
    "x_train = train_data[:,:-2]\n",
    "y_train = train_data[:,-2]\n",
    "scaler = preprocessing.StandardScaler().fit(x_train)\n",
    "x_train = scaler.transform(x_train)\n",
    "test_data_set = np.arange(num_data+1, 16)\n",
    "test_data = []\n",
    "for fn in folders:\n",
    "    for i in test_data_set:\n",
    "        name = classification_folder+\"/\"+fn+\"/\"+str(i)+\"/\"+str(i)+\"_reskin_data.csv\"\n",
    "        marker_name = classification_folder+\"/\"+fn+\"/\"+str(i)+\"/\"+str(i)+\"_markers.csv\"\n",
    "        nparr = np.loadtxt(name, delimiter=\",\")\n",
    "#         markerarr = np.loadtxt(marker_name, delimiter=\",\")\n",
    "#         test_data.append(nparr[int(markerarr[0]*17-20):int(markerarr[0]*17+20),:])\n",
    "        test_data.append(nparr)\n",
    "test_data = np.vstack(test_data)\n",
    "x_test = test_data[:,:-2]\n",
    "y_test = test_data[:,-2]\n",
    "x_test = scaler.transform(x_test)"
   ]
  },
  {
   "cell_type": "code",
   "execution_count": 4,
   "metadata": {},
   "outputs": [
    {
     "name": "stdout",
     "output_type": "stream",
     "text": [
      "[[15490    61     7    16]\n",
      " [   70  2283     2     0]\n",
      " [  155    30  2338    43]\n",
      " [  239   706  1647    16]]\n"
     ]
    },
    {
     "data": {
      "text/plain": [
       "0.7203284670837747"
      ]
     },
     "execution_count": 4,
     "metadata": {},
     "output_type": "execute_result"
    }
   ],
   "source": [
    "clf = neighbors.KNeighborsClassifier(10, weights=\"distance\")\n",
    "clf.fit(x_train, y_train)\n",
    "score = clf.score(x_test, y_test)\n",
    "from sklearn.metrics import confusion_matrix\n",
    "y_pred = clf.predict(x_test)\n",
    "best_cf = confusion_matrix(y_test, y_pred)\n",
    "print(best_cf)\n",
    "from sklearn.metrics import balanced_accuracy_score\n",
    "balanced_accuracy_score(y_test, y_pred)"
   ]
  },
  {
   "cell_type": "code",
   "execution_count": 8,
   "metadata": {},
   "outputs": [
    {
     "name": "stdout",
     "output_type": "stream",
     "text": [
      "[[15509    59     1     5]\n",
      " [   66  2288     0     1]\n",
      " [  223     0  1683   660]\n",
      " [  295  1360   254   699]]\n"
     ]
    },
    {
     "name": "stderr",
     "output_type": "stream",
     "text": [
      "/home/sashank/anaconda3/lib/python3.8/site-packages/sklearn/svm/_base.py:985: ConvergenceWarning: Liblinear failed to converge, increase the number of iterations.\n",
      "  warnings.warn(\"Liblinear failed to converge, increase \"\n"
     ]
    },
    {
     "data": {
      "text/plain": [
       "0.7228205972233624"
      ]
     },
     "execution_count": 8,
     "metadata": {},
     "output_type": "execute_result"
    }
   ],
   "source": [
    "from sklearn.svm import LinearSVC\n",
    "clf = LinearSVC(random_state = 0, tol=1e-4)\n",
    "clf.fit(x_train, y_train)\n",
    "score = clf.score(x_test, y_test)\n",
    "from sklearn.metrics import confusion_matrix\n",
    "y_pred = clf.predict(x_test)\n",
    "best_cf = confusion_matrix(y_test, y_pred)\n",
    "print(best_cf)\n",
    "from sklearn.metrics import balanced_accuracy_score\n",
    "balanced_accuracy_score(y_test, y_pred)\n"
   ]
  },
  {
   "cell_type": "code",
   "execution_count": 9,
   "metadata": {},
   "outputs": [
    {
     "ename": "NameError",
     "evalue": "name 'x_traim' is not defined",
     "output_type": "error",
     "traceback": [
      "\u001b[0;31m---------------------------------------------------------------------------\u001b[0m",
      "\u001b[0;31mNameError\u001b[0m                                 Traceback (most recent call last)",
      "\u001b[0;32m<ipython-input-9-8835ff213459>\u001b[0m in \u001b[0;36m<module>\u001b[0;34m\u001b[0m\n\u001b[0;32m----> 1\u001b[0;31m \u001b[0mx_traim\u001b[0m\u001b[0;34m\u001b[0m\u001b[0;34m\u001b[0m\u001b[0m\n\u001b[0m",
      "\u001b[0;31mNameError\u001b[0m: name 'x_traim' is not defined"
     ]
    }
   ],
   "source": [
    "x_traim"
   ]
  },
  {
   "cell_type": "code",
   "execution_count": 20,
   "metadata": {},
   "outputs": [
    {
     "name": "stdout",
     "output_type": "stream",
     "text": [
      "37280\n",
      "4579\n",
      "4902\n",
      "5160\n"
     ]
    }
   ],
   "source": [
    "print(np.count_nonzero(y_train[:] == 0))\n",
    "print(np.count_nonzero(y_train[:] == 1))\n",
    "print(np.count_nonzero(y_train[:] == 2))\n",
    "print(np.count_nonzero(y_train[:] == 3))"
   ]
  },
  {
   "cell_type": "code",
   "execution_count": 16,
   "metadata": {},
   "outputs": [
    {
     "data": {
      "text/plain": [
       "array([[ 0.71569527,  0.578562  , -0.74943329, ..., -0.02377768,\n",
       "        -0.54262931, -0.27470228],\n",
       "       [ 0.62607429,  0.54697783, -0.48475026, ...,  0.03703497,\n",
       "        -0.47866437, -0.16937415],\n",
       "       [ 0.68333157,  0.54500486, -0.43831538, ...,  0.12946772,\n",
       "        -0.45810495, -0.1904389 ],\n",
       "       ...,\n",
       "       [ 0.47919541,  0.51243322, -0.74479023, ..., -0.07242586,\n",
       "        -0.36330144, -0.16235184],\n",
       "       [ 0.47670599,  0.52329044, -0.49403781, ...,  0.00784364,\n",
       "        -0.37472334, -0.56962625],\n",
       "       [ 0.74058947,  0.47097931, -0.81444328, ..., -0.05296538,\n",
       "        -0.31418555, -0.38003258]])"
      ]
     },
     "execution_count": 16,
     "metadata": {},
     "output_type": "execute_result"
    }
   ],
   "source": [
    "x_train[:-1]"
   ]
  },
  {
   "cell_type": "code",
   "execution_count": 6,
   "metadata": {},
   "outputs": [
    {
     "data": {
      "text/plain": [
       "array([0., 0., 0., 0., 0.])"
      ]
     },
     "execution_count": 6,
     "metadata": {},
     "output_type": "execute_result"
    }
   ],
   "source": [
    "import pickle\n",
    "s = pickle.dumps(clf)\n",
    "clf2 = pickle.loads(s)\n",
    "clf2.predict(x_test[0:5])"
   ]
  },
  {
   "cell_type": "code",
   "execution_count": 10,
   "metadata": {},
   "outputs": [],
   "source": [
    "with open(\"/home/sashank/catkin_ws/src/tactilecloth/scripts/clf.pickle\", 'wb') as handle:\n",
    "    pickle.dump(clf, handle, protocol=2)"
   ]
  },
  {
   "cell_type": "code",
   "execution_count": 11,
   "metadata": {},
   "outputs": [
    {
     "ename": "NameError",
     "evalue": "name 'sklearn' is not defined",
     "output_type": "error",
     "traceback": [
      "\u001b[0;31m---------------------------------------------------------------------------\u001b[0m",
      "\u001b[0;31mNameError\u001b[0m                                 Traceback (most recent call last)",
      "\u001b[0;32m<ipython-input-11-2c9e2e7ba1f4>\u001b[0m in \u001b[0;36m<module>\u001b[0;34m\u001b[0m\n\u001b[0;32m----> 1\u001b[0;31m \u001b[0msklearn\u001b[0m\u001b[0;34m.\u001b[0m\u001b[0m__version__\u001b[0m\u001b[0;34m\u001b[0m\u001b[0;34m\u001b[0m\u001b[0m\n\u001b[0m",
      "\u001b[0;31mNameError\u001b[0m: name 'sklearn' is not defined"
     ]
    }
   ],
   "source": []
  },
  {
   "cell_type": "code",
   "execution_count": null,
   "metadata": {},
   "outputs": [],
   "source": []
  }
 ],
 "metadata": {
  "kernelspec": {
   "display_name": "Python 3",
   "language": "python",
   "name": "python3"
  },
  "language_info": {
   "codemirror_mode": {
    "name": "ipython",
    "version": 2
   },
   "file_extension": ".py",
   "mimetype": "text/x-python",
   "name": "python",
   "nbconvert_exporter": "python",
   "pygments_lexer": "ipython2",
   "version": "2.7.12"
  }
 },
 "nbformat": 4,
 "nbformat_minor": 5
}
