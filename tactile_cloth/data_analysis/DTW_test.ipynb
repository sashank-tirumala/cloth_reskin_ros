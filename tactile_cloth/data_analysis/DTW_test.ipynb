{
 "cells": [
  {
   "cell_type": "code",
   "execution_count": 5,
   "metadata": {},
   "outputs": [],
   "source": [
    "import os\n",
    "import numpy as np"
   ]
  },
  {
   "cell_type": "code",
   "execution_count": 21,
   "metadata": {},
   "outputs": [],
   "source": [
    "\n",
    "def get_dir_names(ps):\n",
    "    dir_names=[]\n",
    "    for p in ps:\n",
    "        for dir in sorted(os.listdir(p)):\n",
    "            dir_names.append(p+\"/\"+dir)\n",
    "    return dir_names\n",
    "\n",
    "def save_data_csv_file(dir_name, save_path, counter, name_list, prefix):\n",
    "    file_name = dir_name+\"/reskin_data.csv\"\n",
    "    for name in name_list:\n",
    "        if(name in dir_name):\n",
    "            counter[int(name[0])] += 1 \n",
    "            new_file_name = save_path+\"/\"+prefix+name+\"/\"+str(int(counter[int(name[0])]))+\".csv\"\n",
    "    data = np.loadtxt(file_name, delimiter = \",\")\n",
    "    np.savetxt(new_file_name,data, delimiter=\",\")\n",
    "    return 0\n",
    "\n",
    "def create_dirs(path, name_list, prefix):\n",
    "    for name in name_list:\n",
    "        if not os.path.exists(path+\"/\"+name):\n",
    "            os.makedirs(path+\"/\"+prefix+name)\n",
    "        \n",
    "def save_csv_files(ps, name_list, save_path, prefix):\n",
    "    create_dirs(save_path, name_list, prefix)\n",
    "    dir_names = get_dir_names(ps)    \n",
    "    count = np.zeros(len(name_list))\n",
    "    for dir_name in dir_names:\n",
    "        save_data_csv_file(dir_name, save_path, count, name_list, prefix)\n",
    "    print(\"Done copying all files\")\n"
   ]
  },
  {
   "cell_type": "code",
   "execution_count": 9,
   "metadata": {},
   "outputs": [
    {
     "ename": "TypeError",
     "evalue": "save_csv_files() takes exactly 4 arguments (3 given)",
     "output_type": "error",
     "traceback": [
      "\u001b[0;31m---------------------------------------------------------------------------\u001b[0m",
      "\u001b[0;31mTypeError\u001b[0m                                 Traceback (most recent call last)",
      "\u001b[0;32m<ipython-input-9-cdabddee2de1>\u001b[0m in \u001b[0;36m<module>\u001b[0;34m()\u001b[0m\n\u001b[1;32m      6\u001b[0m \u001b[0msave_path\u001b[0m\u001b[0;34m=\u001b[0m\u001b[0;34m\"/media/tweng/ExtraDrive2/fabric_touch/bagfiles/franka_norub_folded_random\"\u001b[0m\u001b[0;34m\u001b[0m\u001b[0m\n\u001b[1;32m      7\u001b[0m \u001b[0;34m\u001b[0m\u001b[0m\n\u001b[0;32m----> 8\u001b[0;31m \u001b[0msave_csv_files\u001b[0m\u001b[0;34m(\u001b[0m\u001b[0;34m[\u001b[0m\u001b[0mp1\u001b[0m\u001b[0;34m,\u001b[0m\u001b[0mp2\u001b[0m\u001b[0;34m,\u001b[0m\u001b[0mp3\u001b[0m\u001b[0;34m,\u001b[0m\u001b[0mp4\u001b[0m\u001b[0;34m]\u001b[0m\u001b[0;34m,\u001b[0m \u001b[0mname_list\u001b[0m\u001b[0;34m,\u001b[0m \u001b[0msave_path\u001b[0m\u001b[0;34m)\u001b[0m\u001b[0;34m\u001b[0m\u001b[0m\n\u001b[0m",
      "\u001b[0;31mTypeError\u001b[0m: save_csv_files() takes exactly 4 arguments (3 given)"
     ]
    }
   ],
   "source": [
    "p1 = \"/media/tweng/ExtraDrive2/fabric_touch/bagfiles/franka_norub_folded_random/0cloth_norub_auto\"\n",
    "p2 = \"/media/tweng/ExtraDrive2/fabric_touch/bagfiles/franka_norub_folded_random/1cloth_norub_auto\"\n",
    "p3 = \"/media/tweng/ExtraDrive2/fabric_touch/bagfiles/franka_norub_folded_random/2cloth_norub_auto\"\n",
    "p4 = \"/media/tweng/ExtraDrive2/fabric_touch/bagfiles/franka_norub_folded_random/3cloth_norub_auto\"\n",
    "name_list=[\"0cloth\",\"1cloth\",\"2cloth\",\"3cloth\"]\n",
    "save_path=\"/media/tweng/ExtraDrive2/fabric_touch/bagfiles/franka_norub_folded_random\"\n",
    "\n",
    "save_csv_files([p1,p2,p3,p4], name_list, save_path)"
   ]
  },
  {
   "cell_type": "code",
   "execution_count": 22,
   "metadata": {},
   "outputs": [
    {
     "name": "stdout",
     "output_type": "stream",
     "text": [
      "Done copying all files\n"
     ]
    }
   ],
   "source": [
    "p1 = \"/media/tweng/ExtraDrive2/fabric_touch/bagfiles/striped_towel_fnfr/1cloth_norub_auto\"\n",
    "p2 = \"/media/tweng/ExtraDrive2/fabric_touch/bagfiles/striped_towel_fnfr/2cloth_norub_auto\"\n",
    "name_list = [\"0cloth\",\"1cloth\",\"2cloth\"]\n",
    "prefix = \"striped_towel_fnfr_\"\n",
    "save_path=\"/media/tweng/ExtraDrive2/fabric_touch/csv_files\"\n",
    "save_csv_files([p1,p2], name_list, save_path, prefix)"
   ]
  },
  {
   "cell_type": "code",
   "execution_count": null,
   "metadata": {},
   "outputs": [],
   "source": []
  }
 ],
 "metadata": {
  "kernelspec": {
   "display_name": "Python 2",
   "language": "python",
   "name": "python2"
  },
  "language_info": {
   "codemirror_mode": {
    "name": "ipython",
    "version": 2
   },
   "file_extension": ".py",
   "mimetype": "text/x-python",
   "name": "python",
   "nbconvert_exporter": "python",
   "pygments_lexer": "ipython2",
   "version": "2.7.17"
  }
 },
 "nbformat": 4,
 "nbformat_minor": 2
}
