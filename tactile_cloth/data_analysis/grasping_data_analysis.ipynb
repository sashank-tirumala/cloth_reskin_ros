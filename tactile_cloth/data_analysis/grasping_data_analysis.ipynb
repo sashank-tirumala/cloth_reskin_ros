{
 "cells": [
  {
   "cell_type": "code",
   "execution_count": 1,
   "metadata": {},
   "outputs": [],
   "source": [
    "import numpy as np\n",
    "import matplotlib.pyplot as plt\n",
    "import os"
   ]
  },
  {
   "cell_type": "code",
   "execution_count": 8,
   "metadata": {},
   "outputs": [],
   "source": [
    "cloth0_dir_names = []\n",
    "cloth1_dir_names = []\n",
    "cloth2_dir_names = []\n",
    "\n",
    "for dir in sorted(os.listdir(\"/media/ExtraDrive3/tactilecloth/bagfiles/norub/0cloth_norub_auto\")):\n",
    "    cloth0_dir_names.append(\"/media/ExtraDrive3/tactilecloth/bagfiles/norub/0cloth_norub_auto/\"+dir)\n",
    "\n",
    "for dir in sorted(os.listdir(\"/media/ExtraDrive3/tactilecloth/bagfiles/norub/1cloth_norub_auto\")):\n",
    "    cloth1_dir_names.append(\"/media/ExtraDrive3/tactilecloth/bagfiles/norub/1cloth_norub_auto/\"+dir)\n",
    "\n",
    "for dir in sorted(os.listdir(\"/media/ExtraDrive3/tactilecloth/bagfiles/norub/2cloth_norub_auto\")):\n",
    "    cloth2_dir_names.append(\"/media/ExtraDrive3/tactilecloth/bagfiles/norub/2cloth_norub_auto/\"+dir)"
   ]
  },
  {
   "cell_type": "code",
   "execution_count": 21,
   "metadata": {},
   "outputs": [],
   "source": [
    "def get_data(dir_name):\n",
    "    file_name = dir_name+\"/reskin_data.csv\"\n",
    "    data = np.loadtxt(file_name, delimiter = \",\")\n",
    "    data = data[:,:-1]\n",
    "    return data\n",
    "\n",
    "def get_data_XY(dir_name):\n",
    "    file_name = dir_name+\"/reskin_data.csv\"\n",
    "    data = np.loadtxt(file_name, delimiter = \",\")\n",
    "    X = data[:,:-2]\n",
    "    Y = np.reshape(data[:,-2],(-1,1))\n",
    "    return X,Y\n",
    "\n",
    "def plot_magnetometer(data):\n",
    "    fig, axes = plt.subplots(nrows = 5, ncols = 1, sharex = True)\n",
    "    names = {0:\"Center\", 1: \"Top\", 2: \"Right\", 3: \"Bottom\", 4: \"Left\"}\n",
    "    for i in range(5):\n",
    "        axes[i].plot(data[:,i*3], 'r', label=\"Bx\")\n",
    "        axes[i].plot(data[:,i*3+1], 'g', label = \"By\")\n",
    "        axes[i].plot(data[:,i*3+2], 'b', label = \"Bz\")\n",
    "        axes[i].set_title(names[i])\n",
    "        pass\n",
    "    lines, labels = fig.axes[-2].get_legend_handles_labels()\n",
    "    fig.legend(lines, labels, loc = 'lower right', fontsize =12.0)\n",
    "    fig.tight_layout(pad=0.5)\n",
    "    fig.text(0.04, 0.5, 'Magnetometer Data', va='center', rotation='vertical', fontsize = 14.0)\n",
    "    fig.set_size_inches(20, 11.3)  \n",
    "    plt.show()\n",
    "\n",
    "def plot_diff(data):\n",
    "    fig, axes = plt.subplots(nrows = 5, ncols = 1, sharex = True)\n",
    "    names = {0:\"Center\", 1: \"Top\", 2: \"Right\", 3: \"Bottom\", 4: \"Left\"}\n",
    "    dx = 0.001\n",
    "    for i in range(5):\n",
    "        axes[i].plot(np.diff(data[:,i*3])/dx, 'r', label=\"Bx\")\n",
    "        axes[i].plot(np.diff(data[:,i*3+1])/dx, 'g', label = \"By\")\n",
    "        axes[i].plot(np.diff(data[:,i*3+2])/dx, 'b', label = \"Bz\")\n",
    "        axes[i].set_title(names[i])\n",
    "        pass\n",
    "    lines, labels = fig.axes[-2].get_legend_handles_labels()\n",
    "    fig.legend(lines, labels, loc = 'lower right', fontsize =12.0)\n",
    "    fig.tight_layout(pad=0.5)\n",
    "    fig.text(0.04, 0.5, 'Magnetometer Data', va='center', rotation='vertical', fontsize = 14.0)\n",
    "    fig.set_size_inches(20, 11.3)  \n",
    "    plt.show()\n",
    "\n",
    "def plot_norm(data):\n",
    "    fig = plt.figure()\n",
    "    sqdata = np.square(data)\n",
    "    norm_data = np.abs(np.diff(np.mean(sqdata, axis = 1)))\n",
    "    plt.plot(norm_data, 'r', label=\"norm\")\n",
    "    fig.set_size_inches(20, 11.3)  \n",
    "    plt.show()\n",
    "\n",
    "def plot_magnetometers_with_label(data):\n",
    "    fig, axes = plt.subplots(nrows = 6, ncols = 1, sharex = True)\n",
    "    names = {0:\"Center\", 1: \"Top\", 2: \"Right\", 3: \"Bottom\", 4: \"Left\"}\n",
    "    axes[-1].plot(data[:,-1], 'black', label=\"Contact Data\")\n",
    "    for i in range(5):\n",
    "        axes[i].plot(data[:,i*3], 'r', label=\"Bx\")\n",
    "        axes[i].plot(data[:,i*3+1], 'g', label = \"By\")\n",
    "        axes[i].plot(data[:,i*3+2], 'b', label = \"Bz\")\n",
    "        axes[i].set_title(names[i])\n",
    "        pass\n",
    "    lines, labels = fig.axes[-2].get_legend_handles_labels()\n",
    "    fig.legend(lines, labels, loc = 'lower right', fontsize =12.0)\n",
    "    fig.tight_layout(pad=0.5)\n",
    "    fig.text(0.04, 0.5, 'Magnetometer Data', va='center', rotation='vertical', fontsize = 14.0)\n",
    "    fig.set_size_inches(20, 11.3)  \n",
    "    plt.show()"
   ]
  },
  {
   "cell_type": "code",
   "execution_count": 10,
   "metadata": {},
   "outputs": [],
   "source": [
    "num_train = 10\n",
    "num_test = 5\n",
    "train_dir_names = cloth0_dir_names[0:num_train] + cloth1_dir_names[0:num_train] + cloth2_dir_names[0:num_train]\n",
    "test_dir_names = cloth0_dir_names[num_train:] + cloth1_dir_names[num_train:] + cloth2_dir_names[num_train:]\n",
    "\n",
    "train_dir_names_str = \"\"\n",
    "for dir_name in train_dir_names:\n",
    "    train_dir_names_str = train_dir_names_str + dir_name +\"\\n\"\n",
    "\n",
    "test_dir_names_str = \"\"\n",
    "for dir_name in test_dir_names:\n",
    "    test_dir_names_str = test_dir_names_str + dir_name +\"\\n\"\n",
    "\n",
    "with open(\"test_dir_names_norub.txt\", \"w\") as fn:\n",
    "    fn.write(test_dir_names_str)\n",
    "    \n",
    "with open(\"train_dir_names_norub.txt\", \"w\") as fn:\n",
    "    fn.write(train_dir_names_str)"
   ]
  },
  {
   "cell_type": "code",
   "execution_count": 22,
   "metadata": {},
   "outputs": [
    {
     "name": "stdout",
     "output_type": "stream",
     "text": [
      "((23952, 15), (23952, 1))\n",
      "((11992, 15), (11992, 1))\n"
     ]
    }
   ],
   "source": [
    "X = []\n",
    "Y = []\n",
    "x_test = []\n",
    "y_test = []\n",
    "for dir_name in train_dir_names:\n",
    "    x,y = get_data_XY(dir_name)\n",
    "    X.append(x)\n",
    "    Y.append(y)\n",
    "X = np.vstack(X)\n",
    "Y = np.vstack(Y)\n",
    "print(X.shape, Y.shape)\n",
    "\n",
    "for dir_name in test_dir_names:\n",
    "    x,y = get_data_XY(dir_name)\n",
    "    x_test.append(x)\n",
    "    y_test.append(y)\n",
    "x_test = np.vstack(x_test)\n",
    "y_test = np.vstack(y_test)\n",
    "print(x_test.shape, y_test.shape)"
   ]
  },
  {
   "cell_type": "code",
   "execution_count": 23,
   "metadata": {},
   "outputs": [],
   "source": [
    "from sklearn import preprocessing\n",
    "from sklearn.model_selection import train_test_split\n",
    "from sklearn import neighbors\n",
    "scaler = preprocessing.StandardScaler().fit(X)\n",
    "X = scaler.transform(X)\n",
    "x_test = scaler.transform(x_test)"
   ]
  },
  {
   "cell_type": "code",
   "execution_count": 24,
   "metadata": {},
   "outputs": [
    {
     "name": "stdout",
     "output_type": "stream",
     "text": [
      "((23952, 15), (23952,))\n",
      "[[0.]\n",
      " [0.]\n",
      " [0.]\n",
      " ...\n",
      " [0.]\n",
      " [0.]\n",
      " [0.]]\n"
     ]
    },
    {
     "data": {
      "text/plain": [
       "KNeighborsClassifier(algorithm='auto', leaf_size=30, metric='minkowski',\n",
       "           metric_params=None, n_jobs=None, n_neighbors=10, p=2,\n",
       "           weights='distance')"
      ]
     },
     "execution_count": 24,
     "metadata": {},
     "output_type": "execute_result"
    }
   ],
   "source": [
    "clf = neighbors.KNeighborsClassifier(10, weights=\"distance\")\n",
    "print(X.shape, Y.ravel().shape)\n",
    "print(Y)\n",
    "clf.fit(X, Y.ravel())\n"
   ]
  },
  {
   "cell_type": "code",
   "execution_count": 25,
   "metadata": {},
   "outputs": [
    {
     "name": "stdout",
     "output_type": "stream",
     "text": [
      "('balanced accuracy: ', 0.9989621297507749)\n",
      "[[5539    2    3    0]\n",
      " [   4 2154    0    0]\n",
      " [   1    0 2132    0]\n",
      " [   2    0    0 2155]]\n"
     ]
    }
   ],
   "source": [
    "y_pred = clf.predict(x_test)\n",
    "from sklearn.metrics import balanced_accuracy_score\n",
    "score = balanced_accuracy_score(y_test, y_pred)\n",
    "print(\"balanced accuracy: \",score)\n",
    "from sklearn.metrics import confusion_matrix\n",
    "y_pred = clf.predict(x_test)\n",
    "best_cf = confusion_matrix(y_test, y_pred)\n",
    "print(best_cf)"
   ]
  },
  {
   "cell_type": "code",
   "execution_count": null,
   "metadata": {},
   "outputs": [],
   "source": []
  }
 ],
 "metadata": {
  "kernelspec": {
   "display_name": "Python 2",
   "language": "python",
   "name": "python2"
  },
  "language_info": {
   "codemirror_mode": {
    "name": "ipython",
    "version": 2
   },
   "file_extension": ".py",
   "mimetype": "text/x-python",
   "name": "python",
   "nbconvert_exporter": "python",
   "pygments_lexer": "ipython2",
   "version": "2.7.12"
  }
 },
 "nbformat": 4,
 "nbformat_minor": 2
}
