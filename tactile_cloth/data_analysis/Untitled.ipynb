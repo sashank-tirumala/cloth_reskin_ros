{
 "cells": [
  {
   "cell_type": "code",
   "execution_count": 1,
   "metadata": {},
   "outputs": [
    {
     "data": {
      "text/plain": [
       "'0.20.4'"
      ]
     },
     "execution_count": 1,
     "metadata": {},
     "output_type": "execute_result"
    }
   ],
   "source": [
    "import numpy as np\n",
    "import csv\n",
    "import matplotlib.pyplot as plt\n",
    "import os\n",
    "from sklearn import preprocessing\n",
    "from sklearn.model_selection import train_test_split\n",
    "from sklearn import neighbors\n",
    "import sklearn\n",
    "from sklearn.metrics import balanced_accuracy_score\n",
    "from sklearn.metrics import confusion_matrix\n",
    "\n",
    "sklearn.__version__"
   ]
  },
  {
   "cell_type": "code",
   "execution_count": 69,
   "metadata": {},
   "outputs": [],
   "source": [
    "def get_cloth_dir_names(p1, p2, p3):\n",
    "    cloth0_dir_names = []\n",
    "    cloth1_dir_names = []\n",
    "    cloth2_dir_names = []\n",
    "    for dir in sorted(os.listdir(p1)):\n",
    "        cloth0_dir_names.append(p1+\"/\"+dir)\n",
    "\n",
    "    for dir in sorted(os.listdir(p2)):\n",
    "        cloth1_dir_names.append(p2+\"/\"+dir)\n",
    "\n",
    "    for dir in sorted(os.listdir(p3)):\n",
    "        cloth2_dir_names.append(p3+\"/\"+dir)\n",
    "    return cloth0_dir_names, cloth1_dir_names, cloth2_dir_names\n",
    "def get_dataset_dir_names(cloth0_dir_names, cloth1_dir_names, cloth2_dir_names, num_train):\n",
    "    train_dir_names = cloth0_dir_names[0:num_train] + cloth1_dir_names[0:num_train] + cloth2_dir_names[0:num_train]\n",
    "    test_dir_names = cloth0_dir_names[num_train:] + cloth1_dir_names[num_train:] + cloth2_dir_names[num_train:]\n",
    "    return train_dir_names, test_dir_names\n",
    "\n",
    "def get_raw_data(train_dir_names, test_dir_names, new_collect = True):\n",
    "    X = []\n",
    "    Y = []\n",
    "    x_test = []\n",
    "    y_test = []\n",
    "    for dir_name in train_dir_names:\n",
    "        if(new_collect):\n",
    "            x,y = get_data_XY_new(dir_name)\n",
    "        else:\n",
    "            x,y = get_data_XY(dir_name)\n",
    "        X.append(x)\n",
    "        Y.append(y)\n",
    "    X = np.vstack(X)\n",
    "    Y = np.vstack(Y)\n",
    "\n",
    "    for dir_name in test_dir_names:\n",
    "        if(new_collect):\n",
    "            x,y = get_data_XY_new(dir_name)\n",
    "        else:\n",
    "            x,y = get_data_XY(dir_name)\n",
    "        x_test.append(x)\n",
    "        y_test.append(y)\n",
    "    x_test = np.vstack(x_test)\n",
    "    y_test = np.vstack(y_test)\n",
    "    return X,Y, x_test, y_test\n",
    "\n",
    "def normalize_data(X, x_test):\n",
    "    scaler = preprocessing.StandardScaler().fit(X)\n",
    "    X = scaler.transform(X)\n",
    "    x_test = scaler.transform(x_test)\n",
    "    return X, x_test\n",
    "\n",
    "def minmax_scale_data(X, x_test):\n",
    "    scaler = preprocessing.RobustScaler().fit(X)\n",
    "    X = scaler.transform(X)\n",
    "    x_test = scaler.transform(x_test)\n",
    "    return X, x_test\n",
    "\n",
    "def get_dataset_from_dir_names(cloth0_dir_names, cloth1_dir_names, cloth2_dir_names, num_train, new_collect = True, minMax=True, standard=True):\n",
    "    train_dir_names, test_dir_names = get_dataset_dir_names(cloth0_dir_names, cloth1_dir_names, cloth2_dir_names, num_train)\n",
    "    X,Y, x, y = get_raw_data(train_dir_names, test_dir_names, new_collect)\n",
    "    if(minMax):\n",
    "        print(\"inside minMax\")\n",
    "        X, x = minmax_scale_data(X, x)\n",
    "    elif(standard):\n",
    "        X, x = normalize_data(X, x)\n",
    "    return X,Y,x,y\n",
    "    \n",
    "def create_knn_clf_from_dir(p1,p2,p3, num_train=10, nn = 10, new_collect = True):\n",
    "    cloth0_dir_names, cloth1_dir_names, cloth2_dir_names = get_cloth_dir_names(p1, p2, p3)\n",
    "    X,Y,x,y = get_dataset_from_dir_names(cloth0_dir_names, cloth1_dir_names, cloth2_dir_names, num_train, new_collect)\n",
    "    print(X.shape, Y.shape, x.shape, y.shape)\n",
    "    clf = neighbors.KNeighborsClassifier(nn, weights=\"distance\")\n",
    "    clf.fit(X, Y.ravel())\n",
    "    y_pred = clf.predict(x)\n",
    "    score = balanced_accuracy_score(y, y_pred)\n",
    "    print(\"balanced accuracy: \",score)\n",
    "    y_pred = clf.predict(x)\n",
    "    best_cf = confusion_matrix(y, y_pred)\n",
    "    print(\"confusion_matrix: \", best_cf)\n",
    "    return clf\n",
    "\n",
    "def get_data_XY_new(dir_name):\n",
    "    file_name = dir_name+\"/reskin_data.csv\"\n",
    "    data = np.loadtxt(file_name, delimiter = \",\")\n",
    "    X = data[:,:-2]\n",
    "    Y = np.reshape(data[:,-2],(-1,1))\n",
    "    return X,Y"
   ]
  },
  {
   "cell_type": "markdown",
   "metadata": {},
   "source": [
    "Nearest NEighbours algorithm taking a sequence of points, not just a single point"
   ]
  },
  {
   "cell_type": "code",
   "execution_count": 44,
   "metadata": {},
   "outputs": [],
   "source": [
    "num_of_points = 10\n",
    "def create_new_set(x,y, num_of_points):\n",
    "    new_x = np.zeros([x.shape[0] - num_of_points+1, num_of_points, x.shape[1]])\n",
    "    new_y = np.zeros([x.shape[0] - num_of_points+1])\n",
    "    for i in range(new_x.shape[0]):\n",
    "        new_x[i,:,:] = x[i:i+num_of_points,:]\n",
    "        new_y[i] =np.around(np.sum(y[i:i+num_of_points])/float(num_of_points))\n",
    "    return new_x, new_y\n",
    "\n",
    "def create_new_set2D(x,y, num_of_points):\n",
    "    new_x = np.zeros([x.shape[0] - num_of_points+1, num_of_points*x.shape[1]])\n",
    "    new_y = np.zeros([x.shape[0] - num_of_points+1])\n",
    "    for i in range(new_x.shape[0]):\n",
    "        new_x[i,:] = x[i:i+num_of_points,:].ravel()\n",
    "        new_y[i] =np.around(np.sum(y[i:i+num_of_points])/float(num_of_points))\n",
    "    return new_x, new_y\n",
    "  \n",
    "    "
   ]
  },
  {
   "cell_type": "code",
   "execution_count": 46,
   "metadata": {},
   "outputs": [
    {
     "name": "stdout",
     "output_type": "stream",
     "text": [
      "(array([[0.95543233, 0.78004979],\n",
      "       [0.41198375, 0.98176987],\n",
      "       [0.19560602, 0.54153093],\n",
      "       [0.03420482, 0.07474429],\n",
      "       [0.00493153, 0.21823705],\n",
      "       [0.48290199, 0.55021938],\n",
      "       [0.62271498, 0.63754244],\n",
      "       [0.57604012, 0.79791766],\n",
      "       [0.82829616, 0.40432693],\n",
      "       [0.0953026 , 0.1953231 ]]), array([0, 0, 0, 1, 1, 1, 1, 0, 0, 0]))\n"
     ]
    },
    {
     "data": {
      "text/plain": [
       "(array([[0.95543233, 0.78004979, 0.41198375, 0.98176987],\n",
       "        [0.41198375, 0.98176987, 0.19560602, 0.54153093],\n",
       "        [0.19560602, 0.54153093, 0.03420482, 0.07474429],\n",
       "        [0.03420482, 0.07474429, 0.00493153, 0.21823705],\n",
       "        [0.00493153, 0.21823705, 0.48290199, 0.55021938],\n",
       "        [0.48290199, 0.55021938, 0.62271498, 0.63754244],\n",
       "        [0.62271498, 0.63754244, 0.57604012, 0.79791766],\n",
       "        [0.57604012, 0.79791766, 0.82829616, 0.40432693],\n",
       "        [0.82829616, 0.40432693, 0.0953026 , 0.1953231 ]]),\n",
       " array([0., 0., 0., 1., 1., 1., 0., 0., 0.]))"
      ]
     },
     "execution_count": 46,
     "metadata": {},
     "output_type": "execute_result"
    }
   ],
   "source": [
    "x = np.random.rand(10,2)\n",
    "y = np.array([0,0,0,1,1,1,1,0,0,0])\n",
    "print(x,y)\n",
    "create_new_set2D(x,y,2)"
   ]
  },
  {
   "cell_type": "code",
   "execution_count": 91,
   "metadata": {},
   "outputs": [],
   "source": [
    "p1 = \"/media/tweng/ExtraDrive2/fabric_touch/bagfiles/franka_norub_folded_random/0cloth_norub_auto\"\n",
    "p2 = \"/media/tweng/ExtraDrive2/fabric_touch/bagfiles/franka_norub_folded_random/1cloth_norub_auto\"\n",
    "p3 = \"/media/tweng/ExtraDrive2/fabric_touch/bagfiles/franka_norub_folded_random/2cloth_norub_auto\"\n",
    "n=10\n",
    "nn=60\n",
    "cloth0_dir_names, cloth1_dir_names, cloth2_dir_names = get_cloth_dir_names(p1, p2, p3)\n",
    "X,Y,x,y = get_dataset_from_dir_names(cloth0_dir_names, cloth1_dir_names, cloth2_dir_names, 10,True, minMax=False)\n",
    "X,Y = create_new_set2D(X,Y,n)\n",
    "x,y = create_new_set2D(x,y,n)\n"
   ]
  },
  {
   "cell_type": "code",
   "execution_count": 92,
   "metadata": {},
   "outputs": [
    {
     "name": "stdout",
     "output_type": "stream",
     "text": [
      "('balanced accuracy: ', 0.9268217686444462)\n",
      "('confusion_matrix: ', array([[15978,   261,    19,     7],\n",
      "       [  212,  8279,    68,    24],\n",
      "       [   85,   610,  6903,   599],\n",
      "       [   48,     1,   625,  7567]]))\n"
     ]
    }
   ],
   "source": [
    "clf = neighbors.KNeighborsClassifier(nn, weights=\"distance\")\n",
    "clf.fit(X, Y.ravel())\n",
    "y_pred = clf.predict(x)\n",
    "score = balanced_accuracy_score(y, y_pred)\n",
    "print(\"balanced accuracy: \",score)\n",
    "# y_pred = clf.predict(x)\n",
    "best_cf = confusion_matrix(y, y_pred)\n",
    "print(\"confusion_matrix: \", best_cf)\n"
   ]
  },
  {
   "cell_type": "code",
   "execution_count": 58,
   "metadata": {},
   "outputs": [
    {
     "data": {
      "text/plain": [
       "array([1.])"
      ]
     },
     "execution_count": 58,
     "metadata": {},
     "output_type": "execute_result"
    }
   ],
   "source": [
    "clf.predict([x[150]])"
   ]
  },
  {
   "cell_type": "code",
   "execution_count": null,
   "metadata": {},
   "outputs": [],
   "source": []
  }
 ],
 "metadata": {
  "kernelspec": {
   "display_name": "Python 2",
   "language": "python",
   "name": "python2"
  },
  "language_info": {
   "codemirror_mode": {
    "name": "ipython",
    "version": 2
   },
   "file_extension": ".py",
   "mimetype": "text/x-python",
   "name": "python",
   "nbconvert_exporter": "python",
   "pygments_lexer": "ipython2",
   "version": "2.7.17"
  }
 },
 "nbformat": 4,
 "nbformat_minor": 2
}
